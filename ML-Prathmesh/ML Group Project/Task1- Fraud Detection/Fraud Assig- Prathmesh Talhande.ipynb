{
 "cells": [
  {
   "cell_type": "raw",
   "id": "9fba683d-d9e2-4bbb-920f-5c7492486b4b",
   "metadata": {},
   "source": [
    "Data understanding"
   ]
  },
  {
   "cell_type": "raw",
   "id": "51beaccf-7e2d-4ffa-ae77-cbdd050d1ee8",
   "metadata": {},
   "source": [
    "Metadata Column Descriptions:\n",
    "\n",
    "step:\n",
    "\n",
    "Type: Integer\n",
    "Description: This column maps the progression of time in hours within the dataset. Each unit (step) represents 1 hour, and the total time captured is 744 steps, which equates to a 30-day simulation.\n",
    "Example Values: 1, 2, 3, ..., 744\n",
    "Purpose: Helps in tracking when each transaction occurs, which can be useful for time-series analysis.\n",
    "\n",
    "type:\n",
    "\n",
    "Type: Categorical\n",
    "Description: The type of transaction being performed. It can be one of several transaction types:\n",
    "CASH-IN: Money is being deposited into an account.\n",
    "CASH-OUT: Money is being withdrawn from an account.\n",
    "DEBIT: A debit transaction.\n",
    "PAYMENT: Payment for a good or service.\n",
    "TRANSFER: Money is transferred between accounts.\n",
    "Example Values: PAYMENT, TRANSFER, CASH_OUT\n",
    "Purpose: Indicates the nature of the transaction, which can influence whether a transaction is fraudulent.\n",
    "\n",
    "amount:\n",
    "\n",
    "Type: Float\n",
    "Description: The monetary value of the transaction in the local currency.\n",
    "Example Values: 9839.64, 181, 11668.14\n",
    "Purpose: Represents the transaction size. Extremely large or small amounts might indicate potential fraud, especially in combination with other factors.\n",
    "\n",
    "nameOrig:\n",
    "\n",
    "Type: String\n",
    "Description: Identifier of the customer who initiated the transaction.\n",
    "Example Values: C1231006815, C1666544295\n",
    "Purpose: Helps in identifying which account is involved in initiating a transaction.\n",
    "\n",
    "oldbalanceOrg:\n",
    "\n",
    "Type: Float\n",
    "Description: The initial balance of the origin account (nameOrig) before the transaction was made.\n",
    "Example Values: 170136, 181, 41554\n",
    "Purpose: Useful in detecting suspicious transactions where there is little to no balance before large transactions are made.\n",
    "\n",
    "newbalanceOrig:\n",
    "\n",
    "Type: Float\n",
    "Description: The balance of the origin account (nameOrig) after the transaction.\n",
    "Example Values: 160296.36, 0, 29885.86\n",
    "Purpose: Shows how the transaction affected the balance, which can be used to track abnormal balance changes.\n",
    "\n",
    "nameDest:\n",
    "\n",
    "Type: String\n",
    "Description: Identifier of the customer who is the recipient of the transaction.\n",
    "Note: Customers whose names start with 'M' are merchants, and there is limited information available about them in the dataset.\n",
    "Example Values: M1979787155, C553264065, M1230701703\n",
    "Purpose: Tracks which account receives the transaction. Merchant information is often anonymized.\n",
    "\n",
    "oldbalanceDest:\n",
    "\n",
    "Type: Float\n",
    "Description: The initial balance of the recipient account (nameDest) before the transaction.\n",
    "Example Values: 0, 21182, 0\n",
    "Purpose: Helps in identifying whether the recipient had a significant balance prior to the transaction, which can reveal anomalies.\n",
    "\n",
    "newbalanceDest:\n",
    "\n",
    "Type: Float\n",
    "Description: The balance of the recipient account (nameDest) after the transaction.\n",
    "Example Values: 0, 0, 0\n",
    "Purpose: Useful for tracking the end result of the transaction and determining if large sums of money were added to the recipient account.\n",
    "\n",
    "isFraud:\n",
    "\n",
    "Type: Binary (0 or 1)\n",
    "Description: Indicates whether the transaction was fraudulent.\n",
    "1: Fraudulent transaction.\n",
    "0: Legitimate transaction.\n",
    "Example Values: 0, 1\n",
    "Purpose: The target variable for the model, representing whether a given transaction is fraudulent.\n",
    "\n",
    "isFlaggedFraud:\n",
    "\n",
    "Type: Binary (0 or 1)\n",
    "Description: This flags transactions that have been marked by the system as potentially fraudulent due to suspicious characteristics (e.g., transfers larger than 200,000 units of the currency in a single transaction).\n",
    "1: Flagged as a potentially fraudulent transaction.\n",
    "0: Not flagged.\n",
    "Example Values: 0, 1\n",
    "Purpose: Identifies transactions flagged by the business rules for review, though not necessarily confirmed as fraudulent."
   ]
  },
  {
   "cell_type": "markdown",
   "id": "e168253d-2f03-4715-83e2-4d337efd33b3",
   "metadata": {},
   "source": [
    "Loading Model"
   ]
  },
  {
   "cell_type": "code",
   "execution_count": 2,
   "id": "0b43fb82-f484-4161-a3c9-ef11427007a9",
   "metadata": {},
   "outputs": [],
   "source": [
    "import pandas as pd\n",
    "\n",
    "# Load the dataset\n",
    "file_path = r\"C:\\Users\\roari\\Downloads\\Fraud\\Fraud Datasheet.csv\"\n",
    "data = pd.read_csv(file_path)"
   ]
  },
  {
   "cell_type": "code",
   "execution_count": 23,
   "id": "b17d2307-17ee-4ebb-a194-60ebd1815d2d",
   "metadata": {},
   "outputs": [
    {
     "data": {
      "text/html": [
       "<div>\n",
       "<style scoped>\n",
       "    .dataframe tbody tr th:only-of-type {\n",
       "        vertical-align: middle;\n",
       "    }\n",
       "\n",
       "    .dataframe tbody tr th {\n",
       "        vertical-align: top;\n",
       "    }\n",
       "\n",
       "    .dataframe thead th {\n",
       "        text-align: right;\n",
       "    }\n",
       "</style>\n",
       "<table border=\"1\" class=\"dataframe\">\n",
       "  <thead>\n",
       "    <tr style=\"text-align: right;\">\n",
       "      <th></th>\n",
       "      <th>step</th>\n",
       "      <th>type</th>\n",
       "      <th>amount</th>\n",
       "      <th>nameOrig</th>\n",
       "      <th>oldbalanceOrg</th>\n",
       "      <th>newbalanceOrig</th>\n",
       "      <th>nameDest</th>\n",
       "      <th>oldbalanceDest</th>\n",
       "      <th>newbalanceDest</th>\n",
       "      <th>isFraud</th>\n",
       "      <th>isFlaggedFraud</th>\n",
       "    </tr>\n",
       "  </thead>\n",
       "  <tbody>\n",
       "    <tr>\n",
       "      <th>0</th>\n",
       "      <td>1</td>\n",
       "      <td>PAYMENT</td>\n",
       "      <td>9839.64</td>\n",
       "      <td>C1231006815</td>\n",
       "      <td>170136.0</td>\n",
       "      <td>160296.36</td>\n",
       "      <td>M1979787155</td>\n",
       "      <td>0.0</td>\n",
       "      <td>0.0</td>\n",
       "      <td>0</td>\n",
       "      <td>0</td>\n",
       "    </tr>\n",
       "    <tr>\n",
       "      <th>1</th>\n",
       "      <td>1</td>\n",
       "      <td>PAYMENT</td>\n",
       "      <td>1864.28</td>\n",
       "      <td>C1666544295</td>\n",
       "      <td>21249.0</td>\n",
       "      <td>19384.72</td>\n",
       "      <td>M2044282225</td>\n",
       "      <td>0.0</td>\n",
       "      <td>0.0</td>\n",
       "      <td>0</td>\n",
       "      <td>0</td>\n",
       "    </tr>\n",
       "    <tr>\n",
       "      <th>2</th>\n",
       "      <td>1</td>\n",
       "      <td>TRANSFER</td>\n",
       "      <td>181.00</td>\n",
       "      <td>C1305486145</td>\n",
       "      <td>181.0</td>\n",
       "      <td>0.00</td>\n",
       "      <td>C553264065</td>\n",
       "      <td>0.0</td>\n",
       "      <td>0.0</td>\n",
       "      <td>1</td>\n",
       "      <td>0</td>\n",
       "    </tr>\n",
       "    <tr>\n",
       "      <th>3</th>\n",
       "      <td>1</td>\n",
       "      <td>CASH_OUT</td>\n",
       "      <td>181.00</td>\n",
       "      <td>C840083671</td>\n",
       "      <td>181.0</td>\n",
       "      <td>0.00</td>\n",
       "      <td>C38997010</td>\n",
       "      <td>21182.0</td>\n",
       "      <td>0.0</td>\n",
       "      <td>1</td>\n",
       "      <td>0</td>\n",
       "    </tr>\n",
       "    <tr>\n",
       "      <th>4</th>\n",
       "      <td>1</td>\n",
       "      <td>PAYMENT</td>\n",
       "      <td>11668.14</td>\n",
       "      <td>C2048537720</td>\n",
       "      <td>41554.0</td>\n",
       "      <td>29885.86</td>\n",
       "      <td>M1230701703</td>\n",
       "      <td>0.0</td>\n",
       "      <td>0.0</td>\n",
       "      <td>0</td>\n",
       "      <td>0</td>\n",
       "    </tr>\n",
       "  </tbody>\n",
       "</table>\n",
       "</div>"
      ],
      "text/plain": [
       "   step      type    amount     nameOrig  oldbalanceOrg  newbalanceOrig  \\\n",
       "0     1   PAYMENT   9839.64  C1231006815       170136.0       160296.36   \n",
       "1     1   PAYMENT   1864.28  C1666544295        21249.0        19384.72   \n",
       "2     1  TRANSFER    181.00  C1305486145          181.0            0.00   \n",
       "3     1  CASH_OUT    181.00   C840083671          181.0            0.00   \n",
       "4     1   PAYMENT  11668.14  C2048537720        41554.0        29885.86   \n",
       "\n",
       "      nameDest  oldbalanceDest  newbalanceDest  isFraud  isFlaggedFraud  \n",
       "0  M1979787155             0.0             0.0        0               0  \n",
       "1  M2044282225             0.0             0.0        0               0  \n",
       "2   C553264065             0.0             0.0        1               0  \n",
       "3    C38997010         21182.0             0.0        1               0  \n",
       "4  M1230701703             0.0             0.0        0               0  "
      ]
     },
     "execution_count": 23,
     "metadata": {},
     "output_type": "execute_result"
    }
   ],
   "source": [
    "data.head()"
   ]
  },
  {
   "cell_type": "code",
   "execution_count": 25,
   "id": "bb300e5c-1520-418f-82ee-177811dfbb57",
   "metadata": {},
   "outputs": [
    {
     "data": {
      "text/html": [
       "<div>\n",
       "<style scoped>\n",
       "    .dataframe tbody tr th:only-of-type {\n",
       "        vertical-align: middle;\n",
       "    }\n",
       "\n",
       "    .dataframe tbody tr th {\n",
       "        vertical-align: top;\n",
       "    }\n",
       "\n",
       "    .dataframe thead th {\n",
       "        text-align: right;\n",
       "    }\n",
       "</style>\n",
       "<table border=\"1\" class=\"dataframe\">\n",
       "  <thead>\n",
       "    <tr style=\"text-align: right;\">\n",
       "      <th></th>\n",
       "      <th>step</th>\n",
       "      <th>type</th>\n",
       "      <th>amount</th>\n",
       "      <th>nameOrig</th>\n",
       "      <th>oldbalanceOrg</th>\n",
       "      <th>newbalanceOrig</th>\n",
       "      <th>nameDest</th>\n",
       "      <th>oldbalanceDest</th>\n",
       "      <th>newbalanceDest</th>\n",
       "      <th>isFraud</th>\n",
       "      <th>isFlaggedFraud</th>\n",
       "    </tr>\n",
       "  </thead>\n",
       "  <tbody>\n",
       "    <tr>\n",
       "      <th>6362615</th>\n",
       "      <td>743</td>\n",
       "      <td>CASH_OUT</td>\n",
       "      <td>339682.13</td>\n",
       "      <td>C786484425</td>\n",
       "      <td>339682.13</td>\n",
       "      <td>0.0</td>\n",
       "      <td>C776919290</td>\n",
       "      <td>0.00</td>\n",
       "      <td>339682.13</td>\n",
       "      <td>1</td>\n",
       "      <td>0</td>\n",
       "    </tr>\n",
       "    <tr>\n",
       "      <th>6362616</th>\n",
       "      <td>743</td>\n",
       "      <td>TRANSFER</td>\n",
       "      <td>6311409.28</td>\n",
       "      <td>C1529008245</td>\n",
       "      <td>6311409.28</td>\n",
       "      <td>0.0</td>\n",
       "      <td>C1881841831</td>\n",
       "      <td>0.00</td>\n",
       "      <td>0.00</td>\n",
       "      <td>1</td>\n",
       "      <td>0</td>\n",
       "    </tr>\n",
       "    <tr>\n",
       "      <th>6362617</th>\n",
       "      <td>743</td>\n",
       "      <td>CASH_OUT</td>\n",
       "      <td>6311409.28</td>\n",
       "      <td>C1162922333</td>\n",
       "      <td>6311409.28</td>\n",
       "      <td>0.0</td>\n",
       "      <td>C1365125890</td>\n",
       "      <td>68488.84</td>\n",
       "      <td>6379898.11</td>\n",
       "      <td>1</td>\n",
       "      <td>0</td>\n",
       "    </tr>\n",
       "    <tr>\n",
       "      <th>6362618</th>\n",
       "      <td>743</td>\n",
       "      <td>TRANSFER</td>\n",
       "      <td>850002.52</td>\n",
       "      <td>C1685995037</td>\n",
       "      <td>850002.52</td>\n",
       "      <td>0.0</td>\n",
       "      <td>C2080388513</td>\n",
       "      <td>0.00</td>\n",
       "      <td>0.00</td>\n",
       "      <td>1</td>\n",
       "      <td>0</td>\n",
       "    </tr>\n",
       "    <tr>\n",
       "      <th>6362619</th>\n",
       "      <td>743</td>\n",
       "      <td>CASH_OUT</td>\n",
       "      <td>850002.52</td>\n",
       "      <td>C1280323807</td>\n",
       "      <td>850002.52</td>\n",
       "      <td>0.0</td>\n",
       "      <td>C873221189</td>\n",
       "      <td>6510099.11</td>\n",
       "      <td>7360101.63</td>\n",
       "      <td>1</td>\n",
       "      <td>0</td>\n",
       "    </tr>\n",
       "  </tbody>\n",
       "</table>\n",
       "</div>"
      ],
      "text/plain": [
       "         step      type      amount     nameOrig  oldbalanceOrg  \\\n",
       "6362615   743  CASH_OUT   339682.13   C786484425      339682.13   \n",
       "6362616   743  TRANSFER  6311409.28  C1529008245     6311409.28   \n",
       "6362617   743  CASH_OUT  6311409.28  C1162922333     6311409.28   \n",
       "6362618   743  TRANSFER   850002.52  C1685995037      850002.52   \n",
       "6362619   743  CASH_OUT   850002.52  C1280323807      850002.52   \n",
       "\n",
       "         newbalanceOrig     nameDest  oldbalanceDest  newbalanceDest  isFraud  \\\n",
       "6362615             0.0   C776919290            0.00       339682.13        1   \n",
       "6362616             0.0  C1881841831            0.00            0.00        1   \n",
       "6362617             0.0  C1365125890        68488.84      6379898.11        1   \n",
       "6362618             0.0  C2080388513            0.00            0.00        1   \n",
       "6362619             0.0   C873221189      6510099.11      7360101.63        1   \n",
       "\n",
       "         isFlaggedFraud  \n",
       "6362615               0  \n",
       "6362616               0  \n",
       "6362617               0  \n",
       "6362618               0  \n",
       "6362619               0  "
      ]
     },
     "execution_count": 25,
     "metadata": {},
     "output_type": "execute_result"
    }
   ],
   "source": [
    "data.tail()"
   ]
  },
  {
   "cell_type": "code",
   "execution_count": 4,
   "id": "562ac38b-74f1-45cf-8276-4efe4ccaab23",
   "metadata": {},
   "outputs": [
    {
     "name": "stdout",
     "output_type": "stream",
     "text": [
      "Dataset Information:\n",
      "<class 'pandas.core.frame.DataFrame'>\n",
      "RangeIndex: 6362620 entries, 0 to 6362619\n",
      "Data columns (total 11 columns):\n",
      " #   Column          Dtype  \n",
      "---  ------          -----  \n",
      " 0   step            int64  \n",
      " 1   type            object \n",
      " 2   amount          float64\n",
      " 3   nameOrig        object \n",
      " 4   oldbalanceOrg   float64\n",
      " 5   newbalanceOrig  float64\n",
      " 6   nameDest        object \n",
      " 7   oldbalanceDest  float64\n",
      " 8   newbalanceDest  float64\n",
      " 9   isFraud         int64  \n",
      " 10  isFlaggedFraud  int64  \n",
      "dtypes: float64(5), int64(3), object(3)\n",
      "memory usage: 534.0+ MB\n",
      "None\n",
      "\n",
      "\n"
     ]
    }
   ],
   "source": [
    "# Display dataset information\n",
    "print(\"Dataset Information:\")\n",
    "print(data.info())\n",
    "print(\"\\n\")"
   ]
  },
  {
   "cell_type": "code",
   "execution_count": 6,
   "id": "c9a8b075-47f7-4310-b5e1-f83a7523a1bb",
   "metadata": {},
   "outputs": [
    {
     "name": "stdout",
     "output_type": "stream",
     "text": [
      "Dataset Shape: (6362620, 11)\n",
      "\n"
     ]
    }
   ],
   "source": [
    "# Display the shape of the dataset\n",
    "print(f\"Dataset Shape: {data.shape}\\n\")"
   ]
  },
  {
   "cell_type": "code",
   "execution_count": 10,
   "id": "d57fa04a-16be-40a8-86b3-bc0af6a6dc14",
   "metadata": {},
   "outputs": [
    {
     "data": {
      "text/plain": [
       "step              0\n",
       "type              0\n",
       "amount            0\n",
       "nameOrig          0\n",
       "oldbalanceOrg     0\n",
       "newbalanceOrig    0\n",
       "nameDest          0\n",
       "oldbalanceDest    0\n",
       "newbalanceDest    0\n",
       "isFraud           0\n",
       "isFlaggedFraud    0\n",
       "dtype: int64"
      ]
     },
     "execution_count": 10,
     "metadata": {},
     "output_type": "execute_result"
    }
   ],
   "source": [
    "# Check for null values\n",
    "null_values = data.isnull().sum()\n",
    "null_values"
   ]
  },
  {
   "cell_type": "code",
   "execution_count": 14,
   "id": "a9314a37-b6ff-49f7-a685-e664b73db785",
   "metadata": {},
   "outputs": [
    {
     "data": {
      "text/plain": [
       "['step',\n",
       " 'type',\n",
       " 'amount',\n",
       " 'nameOrig',\n",
       " 'oldbalanceOrg',\n",
       " 'newbalanceOrig',\n",
       " 'nameDest',\n",
       " 'oldbalanceDest',\n",
       " 'newbalanceDest',\n",
       " 'isFraud',\n",
       " 'isFlaggedFraud']"
      ]
     },
     "execution_count": 14,
     "metadata": {},
     "output_type": "execute_result"
    }
   ],
   "source": [
    "# Display column names\n",
    "data.columns.tolist()"
   ]
  },
  {
   "cell_type": "raw",
   "id": "f996af17-aef0-4fd4-9f59-5e881da832d7",
   "metadata": {},
   "source": [
    "'step': 'Time_Step_Hours',\n",
    "    'type': 'Transaction_Type',\n",
    "    'amount': 'Transaction_Amount',\n",
    "    'nameOrig': 'Originating_Customer',\n",
    "    'oldbalanceOrg': 'Original_Balance_Org',\n",
    "    'newbalanceOrig': 'New_Balance_Org',\n",
    "    'nameDest': 'Destination_Customer',\n",
    "    'oldbalanceDest': 'Original_Balance_Dest',\n",
    "    'newbalanceDest': 'New_Balance_Dest',\n",
    "    'isFraud': 'Fraudulent_Transaction',\n",
    "    'isFlaggedFraud': 'Flagged_As_Fraud'"
   ]
  },
  {
   "cell_type": "code",
   "execution_count": 16,
   "id": "2bcb5ad6-8196-443d-9224-31132e5a20fa",
   "metadata": {},
   "outputs": [
    {
     "name": "stdout",
     "output_type": "stream",
     "text": [
      "Count of Each Column:\n",
      "step              6362620\n",
      "type              6362620\n",
      "amount            6362620\n",
      "nameOrig          6362620\n",
      "oldbalanceOrg     6362620\n",
      "newbalanceOrig    6362620\n",
      "nameDest          6362620\n",
      "oldbalanceDest    6362620\n",
      "newbalanceDest    6362620\n",
      "isFraud           6362620\n",
      "isFlaggedFraud    6362620\n",
      "dtype: int64\n",
      "\n",
      "\n"
     ]
    }
   ],
   "source": [
    "# Count of each column\n",
    "print(\"Count of Each Column:\")\n",
    "print(data.count())\n",
    "print(\"\\n\")"
   ]
  },
  {
   "cell_type": "code",
   "execution_count": 18,
   "id": "459887ce-8f4f-49ee-b053-d1f1d9be349c",
   "metadata": {},
   "outputs": [
    {
     "name": "stdout",
     "output_type": "stream",
     "text": [
      "Unique Counts for Each Column:\n",
      "step                  743\n",
      "type                    5\n",
      "amount            5316900\n",
      "nameOrig          6353307\n",
      "oldbalanceOrg     1845844\n",
      "newbalanceOrig    2682586\n",
      "nameDest          2722362\n",
      "oldbalanceDest    3614697\n",
      "newbalanceDest    3555499\n",
      "isFraud                 2\n",
      "isFlaggedFraud          2\n",
      "dtype: int64\n",
      "\n",
      "\n"
     ]
    }
   ],
   "source": [
    "# Unique labels or counts for each column\n",
    "unique_counts = data.nunique()\n",
    "print(\"Unique Counts for Each Column:\")\n",
    "print(unique_counts)\n",
    "print(\"\\n\")"
   ]
  },
  {
   "cell_type": "code",
   "execution_count": 20,
   "id": "6a2d7c49-c291-45b1-b0ce-ecb16ee2a0e2",
   "metadata": {},
   "outputs": [
    {
     "name": "stdout",
     "output_type": "stream",
     "text": [
      "Unique Labels in type:\n",
      "['PAYMENT' 'TRANSFER' 'CASH_OUT' 'DEBIT' 'CASH_IN']\n",
      "\n",
      "\n",
      "Unique Labels in nameOrig:\n",
      "['C1231006815' 'C1666544295' 'C1305486145' ... 'C1162922333' 'C1685995037'\n",
      " 'C1280323807']\n",
      "\n",
      "\n",
      "Unique Labels in nameDest:\n",
      "['M1979787155' 'M2044282225' 'C553264065' ... 'C1850423904' 'C1881841831'\n",
      " 'C2080388513']\n",
      "\n",
      "\n"
     ]
    }
   ],
   "source": [
    "# Display unique labels for categorical columns\n",
    "for column in data.select_dtypes(include=['object']).columns:\n",
    "    print(f\"Unique Labels in {column}:\")\n",
    "    print(data[column].unique())\n",
    "    print(\"\\n\")"
   ]
  },
  {
   "cell_type": "markdown",
   "id": "50e5e2db-4fe2-46b9-ba84-e5622c668fda",
   "metadata": {},
   "source": [
    "Description of features"
   ]
  },
  {
   "cell_type": "raw",
   "id": "be397f9d-66b1-4d95-820b-845faa670358",
   "metadata": {},
   "source": [
    "Numerical Features\n",
    "Numerical features are those that represent quantitative values and can be measured. In your dataset, the following columns are numerical features:\n",
    "\n",
    "step: Represents the unit of time (1 hour).\n",
    "amount: The amount of the transaction in local currency.\n",
    "oldbalanceOrg: The initial balance before the transaction for the originator.\n",
    "newbalanceOrig: The new balance after the transaction for the originator.\n",
    "oldbalanceDest: The initial balance before the transaction for the recipient.\n",
    "newbalanceDest: The new balance after the transaction for the recipient.\n",
    "isFraud: Indicates whether the transaction is fraudulent (0 or 1).\n",
    "isFlaggedFraud: Indicates whether the transaction is flagged as fraudulent (0 or 1).\n",
    "\n",
    "Categorical Features\n",
    "Categorical features represent qualitative values and are typically used to group data. In your dataset, the following columns are categorical features:\n",
    "\n",
    "type: Represents the type of transaction (CASH-IN, CASH-OUT, DEBIT, PAYMENT, TRANSFER).\n",
    "nameOrig: The identifier of the customer who initiated the transaction (categorical as it represents unique customers).\n",
    "nameDest: The identifier of the customer who is the recipient of the transaction (also categorical)."
   ]
  },
  {
   "cell_type": "markdown",
   "id": "e6490759-4397-4634-b8b6-f68eec5e753e",
   "metadata": {},
   "source": [
    "Correlation matrix"
   ]
  },
  {
   "cell_type": "code",
   "execution_count": 47,
   "id": "d48dbf4f-b048-402a-8d17-2dc4841fdbde",
   "metadata": {},
   "outputs": [
    {
     "data": {
      "image/png": "[encoded data removed]",
      "text/plain": [
       "<Figure size 1000x600 with 2 Axes>"
      ]
     },
     "metadata": {},
     "output_type": "display_data"
    }
   ],
   "source": [
    "import seaborn as sns\n",
    "import matplotlib.pyplot as plt\n",
    "\n",
    "# Assuming you already have the DataFrame named 'data' loaded previously\n",
    "\n",
    "# Select only the numerical columns for correlation\n",
    "numerical_data = data.select_dtypes(include=['float64', 'int64'])\n",
    "\n",
    "# Calculate the correlation matrix\n",
    "corr = numerical_data.corr()\n",
    "\n",
    "# Set up the matplotlib figure\n",
    "plt.figure(figsize=(10, 6))\n",
    "\n",
    "# Create a heatmap of the correlation matrix\n",
    "sns.heatmap(corr, annot=True, fmt='.2f', cmap='coolwarm', square=True, cbar_kws={\"shrink\": .8})\n",
    "\n",
    "# Add titles and labels\n",
    "plt.title('Correlation Matrix', fontsize=16)\n",
    "plt.xticks(rotation=45, fontsize=12)\n",
    "plt.yticks(rotation=0, fontsize=12)\n",
    "\n",
    "# Show the plot\n",
    "plt.show()"
   ]
  },
  {
   "cell_type": "raw",
   "id": "af380f5d-9dbf-4cb3-a622-c97c2d0e92c3",
   "metadata": {},
   "source": [
    "The colors represent the strength and direction of the correlation:\n",
    "\n",
    "Red: Positive correlation (variables increase or decrease together)\n",
    "Blue: Negative correlation (one variable increases as the other decreases)\n",
    "White: No correlation\n",
    "\n",
    "Here are some key observations from the heatmap:\n",
    "\n",
    "Strong positive correlations:\n",
    "oldbalanceDest and newbalanceDest have a very strong positive correlation of 0.98, indicating that they are highly correlated.\n",
    "oldbalanceOrg and newbalanceOrig also have a strong positive correlation of 1.00, suggesting they are perfectly correlated.\n",
    "\n",
    "Moderate positive correlations:\n",
    "amount and newbalanceDest have a moderate positive correlation of 0.46.\n",
    "amount and oldbalanceDest have a moderate positive correlation of 0.29.\n",
    "\n",
    "Weak or no correlations:\n",
    "step has weak or no correlations with most of the other variables.\n",
    "isFraud and isFlaggedFraud have weak or no correlations with most of the other variables.\n",
    "Overall, the heatmap suggests that the variables related to transaction amounts and balances are more correlated than those related to time (step) or fraud detection. The strong correlation between oldbalanceDest and newbalanceDest indicates that they might be redundant or highly dependent on each other."
   ]
  },
  {
   "cell_type": "markdown",
   "id": "b9b8013a-1fdc-4224-8c1e-9dff41dd68c8",
   "metadata": {},
   "source": [
    "Checking Multicollinearity"
   ]
  },
  {
   "cell_type": "markdown",
   "id": "8d4a97c0-f382-4f05-a2fc-d4c3dd568997",
   "metadata": {},
   "source": [
    "Distribution of Fraud"
   ]
  },
  {
   "cell_type": "markdown",
   "id": "6874295b-d6ee-424a-99a7-8e13811183a3",
   "metadata": {},
   "source": [
    "LABEL ENCODING"
   ]
  },
  {
   "cell_type": "code",
   "execution_count": 57,
   "id": "3eae9a8f-72eb-473d-aaac-7c085c0441f1",
   "metadata": {},
   "outputs": [
    {
     "name": "stdout",
     "output_type": "stream",
     "text": [
      "step                int64\n",
      "type               object\n",
      "amount            float64\n",
      "nameOrig           object\n",
      "oldbalanceOrg     float64\n",
      "newbalanceOrig    float64\n",
      "nameDest           object\n",
      "oldbalanceDest    float64\n",
      "newbalanceDest    float64\n",
      "isFraud             int64\n",
      "isFlaggedFraud      int64\n",
      "dtype: object\n"
     ]
    }
   ],
   "source": [
    "# Check data types\n",
    "print(data.dtypes)"
   ]
  },
  {
   "cell_type": "code",
   "execution_count": 59,
   "id": "d403977a-93ff-4bbf-8b15-2c8a6f92e48a",
   "metadata": {},
   "outputs": [
    {
     "name": "stdout",
     "output_type": "stream",
     "text": [
      "step                int64\n",
      "type                int32\n",
      "amount            float64\n",
      "nameOrig            int32\n",
      "oldbalanceOrg     float64\n",
      "newbalanceOrig    float64\n",
      "nameDest            int32\n",
      "oldbalanceDest    float64\n",
      "newbalanceDest    float64\n",
      "isFraud             int64\n",
      "isFlaggedFraud      int64\n",
      "dtype: object\n"
     ]
    }
   ],
   "source": [
    "from sklearn.preprocessing import LabelEncoder\n",
    "\n",
    "# Create a copy of the dataset to avoid changing the original\n",
    "data_encoded = data.copy()\n",
    "\n",
    "# Initialize the LabelEncoder\n",
    "label_encoder = LabelEncoder()\n",
    "\n",
    "# List of categorical columns to encode\n",
    "categorical_columns = data_encoded.select_dtypes(include=['object']).columns\n",
    "\n",
    "# Apply label encoding to each categorical column\n",
    "for column in categorical_columns:\n",
    "    data_encoded[column] = label_encoder.fit_transform(data_encoded[column])\n",
    "\n",
    "# Check the updated data types\n",
    "print(data_encoded.dtypes)"
   ]
  },
  {
   "cell_type": "code",
   "execution_count": 61,
   "id": "273af3c7-7ae8-4ee4-a254-53a431fe39eb",
   "metadata": {},
   "outputs": [
    {
     "data": {
      "text/html": [
       "<div>\n",
       "<style scoped>\n",
       "    .dataframe tbody tr th:only-of-type {\n",
       "        vertical-align: middle;\n",
       "    }\n",
       "\n",
       "    .dataframe tbody tr th {\n",
       "        vertical-align: top;\n",
       "    }\n",
       "\n",
       "    .dataframe thead th {\n",
       "        text-align: right;\n",
       "    }\n",
       "</style>\n",
       "<table border=\"1\" class=\"dataframe\">\n",
       "  <thead>\n",
       "    <tr style=\"text-align: right;\">\n",
       "      <th></th>\n",
       "      <th>step</th>\n",
       "      <th>type</th>\n",
       "      <th>amount</th>\n",
       "      <th>nameOrig</th>\n",
       "      <th>oldbalanceOrg</th>\n",
       "      <th>newbalanceOrig</th>\n",
       "      <th>nameDest</th>\n",
       "      <th>oldbalanceDest</th>\n",
       "      <th>newbalanceDest</th>\n",
       "      <th>isFraud</th>\n",
       "      <th>isFlaggedFraud</th>\n",
       "    </tr>\n",
       "  </thead>\n",
       "  <tbody>\n",
       "    <tr>\n",
       "      <th>0</th>\n",
       "      <td>1</td>\n",
       "      <td>3</td>\n",
       "      <td>9839.64</td>\n",
       "      <td>757869</td>\n",
       "      <td>170136.00</td>\n",
       "      <td>160296.36</td>\n",
       "      <td>1662094</td>\n",
       "      <td>0.00</td>\n",
       "      <td>0.00</td>\n",
       "      <td>0</td>\n",
       "      <td>0</td>\n",
       "    </tr>\n",
       "    <tr>\n",
       "      <th>1</th>\n",
       "      <td>1</td>\n",
       "      <td>3</td>\n",
       "      <td>1864.28</td>\n",
       "      <td>2188998</td>\n",
       "      <td>21249.00</td>\n",
       "      <td>19384.72</td>\n",
       "      <td>1733924</td>\n",
       "      <td>0.00</td>\n",
       "      <td>0.00</td>\n",
       "      <td>0</td>\n",
       "      <td>0</td>\n",
       "    </tr>\n",
       "    <tr>\n",
       "      <th>2</th>\n",
       "      <td>1</td>\n",
       "      <td>4</td>\n",
       "      <td>181.00</td>\n",
       "      <td>1002156</td>\n",
       "      <td>181.00</td>\n",
       "      <td>0.00</td>\n",
       "      <td>439685</td>\n",
       "      <td>0.00</td>\n",
       "      <td>0.00</td>\n",
       "      <td>1</td>\n",
       "      <td>0</td>\n",
       "    </tr>\n",
       "    <tr>\n",
       "      <th>3</th>\n",
       "      <td>1</td>\n",
       "      <td>1</td>\n",
       "      <td>181.00</td>\n",
       "      <td>5828262</td>\n",
       "      <td>181.00</td>\n",
       "      <td>0.00</td>\n",
       "      <td>391696</td>\n",
       "      <td>21182.00</td>\n",
       "      <td>0.00</td>\n",
       "      <td>1</td>\n",
       "      <td>0</td>\n",
       "    </tr>\n",
       "    <tr>\n",
       "      <th>4</th>\n",
       "      <td>1</td>\n",
       "      <td>3</td>\n",
       "      <td>11668.14</td>\n",
       "      <td>3445981</td>\n",
       "      <td>41554.00</td>\n",
       "      <td>29885.86</td>\n",
       "      <td>828919</td>\n",
       "      <td>0.00</td>\n",
       "      <td>0.00</td>\n",
       "      <td>0</td>\n",
       "      <td>0</td>\n",
       "    </tr>\n",
       "    <tr>\n",
       "      <th>...</th>\n",
       "      <td>...</td>\n",
       "      <td>...</td>\n",
       "      <td>...</td>\n",
       "      <td>...</td>\n",
       "      <td>...</td>\n",
       "      <td>...</td>\n",
       "      <td>...</td>\n",
       "      <td>...</td>\n",
       "      <td>...</td>\n",
       "      <td>...</td>\n",
       "      <td>...</td>\n",
       "    </tr>\n",
       "    <tr>\n",
       "      <th>6362615</th>\n",
       "      <td>743</td>\n",
       "      <td>1</td>\n",
       "      <td>339682.13</td>\n",
       "      <td>5651847</td>\n",
       "      <td>339682.13</td>\n",
       "      <td>0.00</td>\n",
       "      <td>505863</td>\n",
       "      <td>0.00</td>\n",
       "      <td>339682.13</td>\n",
       "      <td>1</td>\n",
       "      <td>0</td>\n",
       "    </tr>\n",
       "    <tr>\n",
       "      <th>6362616</th>\n",
       "      <td>743</td>\n",
       "      <td>4</td>\n",
       "      <td>6311409.28</td>\n",
       "      <td>1737278</td>\n",
       "      <td>6311409.28</td>\n",
       "      <td>0.00</td>\n",
       "      <td>260949</td>\n",
       "      <td>0.00</td>\n",
       "      <td>0.00</td>\n",
       "      <td>1</td>\n",
       "      <td>0</td>\n",
       "    </tr>\n",
       "    <tr>\n",
       "      <th>6362617</th>\n",
       "      <td>743</td>\n",
       "      <td>1</td>\n",
       "      <td>6311409.28</td>\n",
       "      <td>533958</td>\n",
       "      <td>6311409.28</td>\n",
       "      <td>0.00</td>\n",
       "      <td>108224</td>\n",
       "      <td>68488.84</td>\n",
       "      <td>6379898.11</td>\n",
       "      <td>1</td>\n",
       "      <td>0</td>\n",
       "    </tr>\n",
       "    <tr>\n",
       "      <th>6362618</th>\n",
       "      <td>743</td>\n",
       "      <td>4</td>\n",
       "      <td>850002.52</td>\n",
       "      <td>2252932</td>\n",
       "      <td>850002.52</td>\n",
       "      <td>0.00</td>\n",
       "      <td>319713</td>\n",
       "      <td>0.00</td>\n",
       "      <td>0.00</td>\n",
       "      <td>1</td>\n",
       "      <td>0</td>\n",
       "    </tr>\n",
       "    <tr>\n",
       "      <th>6362619</th>\n",
       "      <td>743</td>\n",
       "      <td>1</td>\n",
       "      <td>850002.52</td>\n",
       "      <td>919229</td>\n",
       "      <td>850002.52</td>\n",
       "      <td>0.00</td>\n",
       "      <td>534595</td>\n",
       "      <td>6510099.11</td>\n",
       "      <td>7360101.63</td>\n",
       "      <td>1</td>\n",
       "      <td>0</td>\n",
       "    </tr>\n",
       "  </tbody>\n",
       "</table>\n",
       "<p>6362620 rows × 11 columns</p>\n",
       "</div>"
      ],
      "text/plain": [
       "         step  type      amount  nameOrig  oldbalanceOrg  newbalanceOrig  \\\n",
       "0           1     3     9839.64    757869      170136.00       160296.36   \n",
       "1           1     3     1864.28   2188998       21249.00        19384.72   \n",
       "2           1     4      181.00   1002156         181.00            0.00   \n",
       "3           1     1      181.00   5828262         181.00            0.00   \n",
       "4           1     3    11668.14   3445981       41554.00        29885.86   \n",
       "...       ...   ...         ...       ...            ...             ...   \n",
       "6362615   743     1   339682.13   5651847      339682.13            0.00   \n",
       "6362616   743     4  6311409.28   1737278     6311409.28            0.00   \n",
       "6362617   743     1  6311409.28    533958     6311409.28            0.00   \n",
       "6362618   743     4   850002.52   2252932      850002.52            0.00   \n",
       "6362619   743     1   850002.52    919229      850002.52            0.00   \n",
       "\n",
       "         nameDest  oldbalanceDest  newbalanceDest  isFraud  isFlaggedFraud  \n",
       "0         1662094            0.00            0.00        0               0  \n",
       "1         1733924            0.00            0.00        0               0  \n",
       "2          439685            0.00            0.00        1               0  \n",
       "3          391696        21182.00            0.00        1               0  \n",
       "4          828919            0.00            0.00        0               0  \n",
       "...           ...             ...             ...      ...             ...  \n",
       "6362615    505863            0.00       339682.13        1               0  \n",
       "6362616    260949            0.00            0.00        1               0  \n",
       "6362617    108224        68488.84      6379898.11        1               0  \n",
       "6362618    319713            0.00            0.00        1               0  \n",
       "6362619    534595      6510099.11      7360101.63        1               0  \n",
       "\n",
       "[6362620 rows x 11 columns]"
      ]
     },
     "execution_count": 61,
     "metadata": {},
     "output_type": "execute_result"
    }
   ],
   "source": [
    "data_encoded"
   ]
  },
  {
   "cell_type": "markdown",
   "id": "6c6dd163-9886-4212-9b77-8fe1344ae3dd",
   "metadata": {},
   "source": [
    "Checking Multicollinearity"
   ]
  },
  {
   "cell_type": "code",
   "execution_count": 64,
   "id": "2313e696-df15-494e-adda-9b0587a14da4",
   "metadata": {},
   "outputs": [
    {
     "name": "stdout",
     "output_type": "stream",
     "text": [
      "           feature         VIF\n",
      "0             step    2.791610\n",
      "1             type    4.467405\n",
      "2           amount    4.149312\n",
      "3         nameOrig    2.764234\n",
      "4    oldbalanceOrg  576.803777\n",
      "5   newbalanceOrig  582.709128\n",
      "6         nameDest    3.300975\n",
      "7   oldbalanceDest   73.349937\n",
      "8   newbalanceDest   85.005614\n",
      "9          isFraud    1.195305\n",
      "10  isFlaggedFraud    1.002587\n"
     ]
    }
   ],
   "source": [
    "from statsmodels.stats.outliers_influence import variance_inflation_factor\n",
    "import pandas as pd\n",
    "\n",
    "# Create a DataFrame to hold VIF results\n",
    "vif_data = pd.DataFrame()\n",
    "vif_data[\"feature\"] = data_encoded.columns\n",
    "vif_data[\"VIF\"] = [variance_inflation_factor(data_encoded.values, i) for i in range(data_encoded.shape[1])]\n",
    "\n",
    "print(vif_data)"
   ]
  },
  {
   "cell_type": "raw",
   "id": "e3657c0d-a855-4e3a-bfe1-09a8676495da",
   "metadata": {},
   "source": [
    "VIF Results Interpretation\n",
    "step: VIF of 2.79 — No concern for multicollinearity.\n",
    "type: VIF of 4.47 — Moderate multicollinearity, but generally acceptable.\n",
    "amount: VIF of 4.15 — Moderate multicollinearity, but generally acceptable.\n",
    "nameOrig: VIF of 2.76 — No concern for multicollinearity.\n",
    "oldbalanceOrg: VIF of 576.80 — Extremely high, indicating severe multicollinearity.\n",
    "newbalanceOrig: VIF of 582.71 — Extremely high, indicating severe multicollinearity.\n",
    "nameDest: VIF of 3.30 — No concern for multicollinearity.\n",
    "oldbalanceDest: VIF of 73.35 — High, indicating some concern for multicollinearity.\n",
    "newbalanceDest: VIF of 85.01 — High, indicating some concern for multicollinearity.\n",
    "isFraud: VIF of 1.20 — No concern for multicollinearity.\n",
    "isFlaggedFraud: VIF of 1.00 — No concern for multicollinearity."
   ]
  },
  {
   "cell_type": "raw",
   "id": "c1411223-386b-4a06-a440-28ed0bbfa4ab",
   "metadata": {},
   "source": [
    "Recommendations\n",
    "\n",
    "Severe Multicollinearity:\n",
    "\n",
    "oldbalanceOrg and newbalanceOrig: The very high VIF values (over 10, and in this case, well over 100) suggest that these two features are likely highly correlated with each other and possibly with other features as well.\n",
    "Action: Consider removing one of these features from your dataset. You can analyze their correlation with other variables to determine which one to keep based on your specific analytical goals.\n",
    "\n",
    "High Multicollinearity:\n",
    "\n",
    "oldbalanceDest and newbalanceDest also have high VIF values.\n",
    "Action: Similar to above, consider removing one of these features based on correlation analysis or the context of your analysis."
   ]
  },
  {
   "cell_type": "markdown",
   "id": "23fb1e21-2e67-424b-b6fb-147aec341118",
   "metadata": {},
   "source": [
    "Multicollinear features are combined as total"
   ]
  },
  {
   "cell_type": "code",
   "execution_count": 74,
   "id": "98ca0238-c881-4052-9af9-25157f0a8bcf",
   "metadata": {},
   "outputs": [
    {
     "name": "stdout",
     "output_type": "stream",
     "text": [
      "   type    amount  isFraud  isFlaggedFraud  Actual_amount_orig  \\\n",
      "0     3   9839.64        0               0             9839.64   \n",
      "1     3   1864.28        0               0             1864.28   \n",
      "2     4    181.00        1               0              181.00   \n",
      "3     1    181.00        1               0              181.00   \n",
      "4     3  11668.14        0               0            11668.14   \n",
      "\n",
      "   Actual_amount_dest     TransactionPath  \n",
      "0                 0.0   757869.01662094.0  \n",
      "1                 0.0  2188998.01733924.0  \n",
      "2                 0.0   1002156.0439685.0  \n",
      "3             21182.0   5828262.0391696.0  \n",
      "4                 0.0   3445981.0828919.0  \n"
     ]
    }
   ],
   "source": [
    "import pandas as pd\n",
    "\n",
    "# Assuming data_encoded is your DataFrame\n",
    "# Replace 'data_encoded' with your actual DataFrame variable name if different\n",
    "\n",
    "# Step 1: Create new columns for actual amounts\n",
    "data_encoded['Actual_amount_orig'] = data_encoded.apply(lambda x: x['oldbalanceOrg'] - x['newbalanceOrig'], axis=1)\n",
    "data_encoded['Actual_amount_dest'] = data_encoded.apply(lambda x: x['oldbalanceDest'] - x['newbalanceDest'], axis=1)\n",
    "\n",
    "# Step 2: Create a new column for the transaction path\n",
    "data_encoded['TransactionPath'] = data_encoded.apply(lambda x: str(x['nameOrig']) + str(x['nameDest']), axis=1)\n",
    "\n",
    "# Step 3: Dropping specified columns\n",
    "data_encoded = data_encoded.drop(['oldbalanceOrg', 'newbalanceOrig', 'oldbalanceDest', 'newbalanceDest', 'step', 'nameOrig', 'nameDest'], axis=1)\n",
    "\n",
    "# Display the updated DataFrame\n",
    "print(data_encoded.head())"
   ]
  },
  {
   "cell_type": "code",
   "execution_count": 76,
   "id": "2e77ff76-9b4d-475f-a35e-f5635615a834",
   "metadata": {},
   "outputs": [
    {
     "data": {
      "text/html": [
       "<div>\n",
       "<style scoped>\n",
       "    .dataframe tbody tr th:only-of-type {\n",
       "        vertical-align: middle;\n",
       "    }\n",
       "\n",
       "    .dataframe tbody tr th {\n",
       "        vertical-align: top;\n",
       "    }\n",
       "\n",
       "    .dataframe thead th {\n",
       "        text-align: right;\n",
       "    }\n",
       "</style>\n",
       "<table border=\"1\" class=\"dataframe\">\n",
       "  <thead>\n",
       "    <tr style=\"text-align: right;\">\n",
       "      <th></th>\n",
       "      <th>type</th>\n",
       "      <th>amount</th>\n",
       "      <th>isFraud</th>\n",
       "      <th>isFlaggedFraud</th>\n",
       "      <th>Actual_amount_orig</th>\n",
       "      <th>Actual_amount_dest</th>\n",
       "      <th>TransactionPath</th>\n",
       "    </tr>\n",
       "  </thead>\n",
       "  <tbody>\n",
       "    <tr>\n",
       "      <th>0</th>\n",
       "      <td>3</td>\n",
       "      <td>9839.64</td>\n",
       "      <td>0</td>\n",
       "      <td>0</td>\n",
       "      <td>9839.64</td>\n",
       "      <td>0.0</td>\n",
       "      <td>757869.01662094.0</td>\n",
       "    </tr>\n",
       "    <tr>\n",
       "      <th>1</th>\n",
       "      <td>3</td>\n",
       "      <td>1864.28</td>\n",
       "      <td>0</td>\n",
       "      <td>0</td>\n",
       "      <td>1864.28</td>\n",
       "      <td>0.0</td>\n",
       "      <td>2188998.01733924.0</td>\n",
       "    </tr>\n",
       "    <tr>\n",
       "      <th>2</th>\n",
       "      <td>4</td>\n",
       "      <td>181.00</td>\n",
       "      <td>1</td>\n",
       "      <td>0</td>\n",
       "      <td>181.00</td>\n",
       "      <td>0.0</td>\n",
       "      <td>1002156.0439685.0</td>\n",
       "    </tr>\n",
       "    <tr>\n",
       "      <th>3</th>\n",
       "      <td>1</td>\n",
       "      <td>181.00</td>\n",
       "      <td>1</td>\n",
       "      <td>0</td>\n",
       "      <td>181.00</td>\n",
       "      <td>21182.0</td>\n",
       "      <td>5828262.0391696.0</td>\n",
       "    </tr>\n",
       "    <tr>\n",
       "      <th>4</th>\n",
       "      <td>3</td>\n",
       "      <td>11668.14</td>\n",
       "      <td>0</td>\n",
       "      <td>0</td>\n",
       "      <td>11668.14</td>\n",
       "      <td>0.0</td>\n",
       "      <td>3445981.0828919.0</td>\n",
       "    </tr>\n",
       "  </tbody>\n",
       "</table>\n",
       "</div>"
      ],
      "text/plain": [
       "   type    amount  isFraud  isFlaggedFraud  Actual_amount_orig  \\\n",
       "0     3   9839.64        0               0             9839.64   \n",
       "1     3   1864.28        0               0             1864.28   \n",
       "2     4    181.00        1               0              181.00   \n",
       "3     1    181.00        1               0              181.00   \n",
       "4     3  11668.14        0               0            11668.14   \n",
       "\n",
       "   Actual_amount_dest     TransactionPath  \n",
       "0                 0.0   757869.01662094.0  \n",
       "1                 0.0  2188998.01733924.0  \n",
       "2                 0.0   1002156.0439685.0  \n",
       "3             21182.0   5828262.0391696.0  \n",
       "4                 0.0   3445981.0828919.0  "
      ]
     },
     "execution_count": 76,
     "metadata": {},
     "output_type": "execute_result"
    }
   ],
   "source": [
    "data_encoded.head(5)"
   ]
  },
  {
   "cell_type": "markdown",
   "id": "909cf7c2-e52a-408c-a942-e38bde87a82b",
   "metadata": {},
   "source": [
    "Checking Muticollinearity again"
   ]
  },
  {
   "cell_type": "code",
   "execution_count": 81,
   "id": "ee7826e0-0c89-45e1-8e73-2a8127d9af59",
   "metadata": {},
   "outputs": [
    {
     "name": "stdout",
     "output_type": "stream",
     "text": [
      "              Feature       VIF\n",
      "0              amount  3.637288\n",
      "1             isFraud  1.175736\n",
      "2      isFlaggedFraud  1.002478\n",
      "3  Actual_amount_orig  1.202228\n",
      "4  Actual_amount_dest  3.686456\n"
     ]
    }
   ],
   "source": [
    "import pandas as pd\n",
    "from statsmodels.stats.outliers_influence import variance_inflation_factor\n",
    "\n",
    "# Assuming you have your data in a DataFrame called data_encoded\n",
    "# Select only the numeric columns for VIF calculation\n",
    "numeric_cols = data_encoded.select_dtypes(include=['float64', 'int64']).columns\n",
    "\n",
    "# Create a DataFrame to hold the VIF values\n",
    "vif_data = pd.DataFrame()\n",
    "vif_data[\"Feature\"] = numeric_cols\n",
    "vif_data[\"VIF\"] = [variance_inflation_factor(data_encoded[numeric_cols].values, i) for i in range(len(numeric_cols))]\n",
    "\n",
    "# Display the VIF values\n",
    "print(vif_data)"
   ]
  },
  {
   "cell_type": "markdown",
   "id": "636756a8-1620-4b4e-b8eb-a7a6fd6268f5",
   "metadata": {},
   "source": [
    "VIF scores suggest that multicollinearity is not a significant problem in my dataset."
   ]
  },
  {
   "cell_type": "raw",
   "id": "24d6a363-60f0-4097-9a27-f452488050eb",
   "metadata": {},
   "source": [
    "Plotting Correlation matrix"
   ]
  },
  {
   "cell_type": "code",
   "execution_count": 90,
   "id": "dcb37514-899e-4e01-be1e-49609197be2e",
   "metadata": {},
   "outputs": [
    {
     "data": {
      "image/png": "[encoded data removed]",
      "text/plain": [
       "<Figure size 1000x600 with 2 Axes>"
      ]
     },
     "metadata": {},
     "output_type": "display_data"
    }
   ],
   "source": [
    "import pandas as pd\n",
    "import seaborn as sns\n",
    "import matplotlib.pyplot as plt\n",
    "\n",
    "# Assuming data_encoded is your DataFrame\n",
    "# Replace 'data_encoded' with your actual DataFrame name if different\n",
    "\n",
    "# Select numeric features for the correlation matrix\n",
    "numeric_features = data_encoded[['amount', 'isFraud', 'isFlaggedFraud', 'Actual_amount_orig', 'Actual_amount_dest']]\n",
    "\n",
    "# Calculate the correlation matrix\n",
    "correlation_matrix = numeric_features.corr()\n",
    "\n",
    "# Set the size of the plot\n",
    "plt.figure(figsize=(10, 6))\n",
    "\n",
    "# Create a heatmap to visualize the correlation matrix\n",
    "sns.heatmap(correlation_matrix, annot=True, fmt=\".2f\", cmap='coolwarm', square=True, cbar=True)\n",
    "\n",
    "# Set title\n",
    "plt.title('Correlation Matrix')\n",
    "\n",
    "# Show the plot\n",
    "plt.show()"
   ]
  },
  {
   "cell_type": "markdown",
   "id": "0f400a8d-9e01-4b75-82a6-77dc00ae7baa",
   "metadata": {},
   "source": [
    "the heatmap suggests that the variable amount is strongly negatively correlated with Actual_amount_dest, which might indicate that the actual amount transferred is often different from the original amount specified. The moderate positive correlation between isFraud and Actual_amount_orig could suggest that fraudulent transactions tend to involve larger original amounts."
   ]
  },
  {
   "cell_type": "markdown",
   "id": "6160f58e-7c58-4c01-ae3a-9d4a2b036c84",
   "metadata": {},
   "source": [
    "I will keep both the features and i will monitor effect if i will remove one"
   ]
  },
  {
   "cell_type": "raw",
   "id": "34d7e220-337f-4e32-bbd7-227af42b91a2",
   "metadata": {},
   "source": [
    "Now checking the transaction distribution"
   ]
  },
  {
   "cell_type": "code",
   "execution_count": 94,
   "id": "03f7901f-d196-4846-824e-e4ddb956c41e",
   "metadata": {},
   "outputs": [
    {
     "data": {
      "image/png": "[encoded data removed]",
      "text/plain": [
       "<Figure size 800x600 with 1 Axes>"
      ]
     },
     "metadata": {},
     "output_type": "display_data"
    }
   ],
   "source": [
    "import pandas as pd\n",
    "import seaborn as sns\n",
    "import matplotlib.pyplot as plt\n",
    "\n",
    "# Assuming data_encoded is your DataFrame\n",
    "# Replace 'data_encoded' with your actual DataFrame name if different\n",
    "\n",
    "# Set the style of seaborn\n",
    "sns.set(style=\"whitegrid\")\n",
    "\n",
    "# Create a count plot for the isFraud variable\n",
    "plt.figure(figsize=(8, 6))\n",
    "sns.countplot(x='isFraud', data=data_encoded, palette='coolwarm')\n",
    "\n",
    "# Set title and labels\n",
    "plt.title('Distribution of Fraudulent Transactions', fontsize=16)\n",
    "plt.xlabel('Is Fraud (0 = No, 1 = Yes)', fontsize=14)\n",
    "plt.ylabel('Count', fontsize=14)\n",
    "\n",
    "# Show the plot\n",
    "plt.xticks(ticks=[0, 1], labels=['No Fraud', 'Fraud'])\n",
    "plt.show()"
   ]
  },
  {
   "cell_type": "code",
   "execution_count": 96,
   "id": "5b72ca99-49f1-4f56-98df-ce0da198d6d4",
   "metadata": {},
   "outputs": [
    {
     "name": "stdout",
     "output_type": "stream",
     "text": [
      "isFraud\n",
      "0    6354407\n",
      "1       8213\n",
      "Name: count, dtype: int64\n"
     ]
    }
   ],
   "source": [
    "# Count the occurrences of each class in isFraud\n",
    "fraud_counts = data_encoded['isFraud'].value_counts()\n",
    "print(fraud_counts)"
   ]
  },
  {
   "cell_type": "raw",
   "id": "693a71e5-b0ba-4666-a0fb-011c37a54c67",
   "metadata": {},
   "source": [
    "Balancing Dataset"
   ]
  },
  {
   "cell_type": "code",
   "execution_count": 101,
   "id": "e9cfc384-991d-453b-9f82-d87a9e66308b",
   "metadata": {},
   "outputs": [
    {
     "name": "stdout",
     "output_type": "stream",
     "text": [
      "Requirement already satisfied: imbalanced-learn in c:\\users\\roari\\anaconda3\\lib\\site-packages (0.12.3)\n",
      "Requirement already satisfied: numpy>=1.17.3 in c:\\users\\roari\\anaconda3\\lib\\site-packages (from imbalanced-learn) (1.26.4)\n",
      "Requirement already satisfied: scipy>=1.5.0 in c:\\users\\roari\\anaconda3\\lib\\site-packages (from imbalanced-learn) (1.13.1)\n",
      "Requirement already satisfied: scikit-learn>=1.0.2 in c:\\users\\roari\\anaconda3\\lib\\site-packages (from imbalanced-learn) (1.5.1)\n",
      "Requirement already satisfied: joblib>=1.1.1 in c:\\users\\roari\\anaconda3\\lib\\site-packages (from imbalanced-learn) (1.4.2)\n",
      "Requirement already satisfied: threadpoolctl>=2.0.0 in c:\\users\\roari\\anaconda3\\lib\\site-packages (from imbalanced-learn) (3.5.0)\n",
      "Note: you may need to restart the kernel to use updated packages.\n"
     ]
    }
   ],
   "source": [
    "pip install imbalanced-learn"
   ]
  },
  {
   "cell_type": "code",
   "execution_count": 107,
   "id": "84b566e4-1db9-4057-b65f-e5be3153d20d",
   "metadata": {},
   "outputs": [
    {
     "name": "stdout",
     "output_type": "stream",
     "text": [
      "isFraud\n",
      "0    6354407\n",
      "1    6354407\n",
      "Name: count, dtype: int64\n"
     ]
    }
   ],
   "source": [
    "import pandas as pd\n",
    "\n",
    "# Assuming data_encoded is your DataFrame\n",
    "# Replace 'data_encoded' with your actual DataFrame name if different\n",
    "\n",
    "# Separate the majority and minority classes\n",
    "majority_class = data_encoded[data_encoded['isFraud'] == 0]\n",
    "minority_class = data_encoded[data_encoded['isFraud'] == 1]\n",
    "\n",
    "# Oversample the minority class\n",
    "minority_class_oversampled = minority_class.sample(n=len(majority_class), replace=True, random_state=42)\n",
    "\n",
    "# Combine the oversampled minority class with the majority class\n",
    "data_balanced = pd.concat([majority_class, minority_class_oversampled])\n",
    "\n",
    "# Shuffle the balanced dataset\n",
    "data_balanced = data_balanced.sample(frac=1, random_state=42).reset_index(drop=True)\n",
    "\n",
    "# Verify the new distribution\n",
    "print(data_balanced['isFraud'].value_counts())"
   ]
  },
  {
   "cell_type": "code",
   "execution_count": 111,
   "id": "4295d283-b95d-4597-ad89-663572aa71f5",
   "metadata": {},
   "outputs": [
    {
     "data": {
      "text/plain": [
       "(12708814, 7)"
      ]
     },
     "execution_count": 111,
     "metadata": {},
     "output_type": "execute_result"
    }
   ],
   "source": [
    "data_balanced.shape"
   ]
  },
  {
   "cell_type": "code",
   "execution_count": 119,
   "id": "232f1366-a954-4b51-a781-84c261db1fc7",
   "metadata": {},
   "outputs": [
    {
     "name": "stdout",
     "output_type": "stream",
     "text": [
      "<class 'pandas.core.frame.DataFrame'>\n",
      "RangeIndex: 12708814 entries, 0 to 12708813\n",
      "Data columns (total 7 columns):\n",
      " #   Column              Dtype  \n",
      "---  ------              -----  \n",
      " 0   type                int32  \n",
      " 1   amount              float64\n",
      " 2   isFraud             int64  \n",
      " 3   isFlaggedFraud      int64  \n",
      " 4   Actual_amount_orig  float64\n",
      " 5   Actual_amount_dest  float64\n",
      " 6   TransactionPath     object \n",
      "dtypes: float64(3), int32(1), int64(2), object(1)\n",
      "memory usage: 630.2+ MB\n"
     ]
    }
   ],
   "source": [
    "data_balanced.info()"
   ]
  },
  {
   "cell_type": "raw",
   "id": "2b8db080-ac84-4361-be8a-d0b526399779",
   "metadata": {},
   "source": [
    "Distribution of amount"
   ]
  },
  {
   "cell_type": "code",
   "execution_count": 121,
   "id": "a4af786c-20db-48f2-a812-7e52ac07cdce",
   "metadata": {},
   "outputs": [
    {
     "data": {
      "image/png": "[encoded data removed]",
      "text/plain": [
       "<Figure size 1000x600 with 1 Axes>"
      ]
     },
     "metadata": {},
     "output_type": "display_data"
    }
   ],
   "source": [
    "import seaborn as sns\n",
    "import matplotlib.pyplot as plt\n",
    "\n",
    "# Assuming data_balanced is your balanced DataFrame\n",
    "# Replace 'data_balanced' with your actual DataFrame name if different\n",
    "\n",
    "# Set the style of seaborn\n",
    "sns.set(style=\"whitegrid\")\n",
    "\n",
    "# Create a histogram for the amount variable\n",
    "plt.figure(figsize=(10, 6))\n",
    "sns.histplot(data_balanced['amount'], bins=50, kde=True, color='blue')\n",
    "\n",
    "# Set title and labels\n",
    "plt.title('Distribution of Amount', fontsize=16)\n",
    "plt.xlabel('Amount', fontsize=14)\n",
    "plt.ylabel('Frequency', fontsize=14)\n",
    "\n",
    "# Show the plot\n",
    "plt.show()"
   ]
  },
  {
   "cell_type": "raw",
   "id": "fe193195-685d-4a52-a17c-65e83585bd52",
   "metadata": {},
   "source": [
    "Scalling only amount and not whole data to maintain accuracy"
   ]
  },
  {
   "cell_type": "code",
   "execution_count": 125,
   "id": "bd8a8e9c-0d85-403b-a02f-4429688a5666",
   "metadata": {},
   "outputs": [
    {
     "name": "stdout",
     "output_type": "stream",
     "text": [
      "      amount  amount_scaled\n",
      "0    5449.23      -0.438125\n",
      "1  195538.51      -0.336345\n",
      "2  244068.01      -0.310361\n",
      "3   17365.96      -0.431744\n",
      "4  768520.15      -0.029552\n"
     ]
    }
   ],
   "source": [
    "from sklearn.preprocessing import StandardScaler\n",
    "import pandas as pd\n",
    "\n",
    "# Assuming data_balanced is your balanced DataFrame\n",
    "# Replace 'data_balanced' with your actual DataFrame name if different\n",
    "\n",
    "# Initialize the StandardScaler\n",
    "scaler = StandardScaler()\n",
    "\n",
    "# Apply the scaler only to the 'amount' column\n",
    "data_balanced['amount_scaled'] = scaler.fit_transform(data_balanced[['amount']])\n",
    "\n",
    "# Verify the scaled values\n",
    "print(data_balanced[['amount', 'amount_scaled']].head())"
   ]
  },
  {
   "cell_type": "code",
   "execution_count": 127,
   "id": "7fe94a75-e0cb-4a3c-a27d-7eeac93d2c03",
   "metadata": {},
   "outputs": [
    {
     "data": {
      "image/png": "[encoded data removed]",
      "text/plain": [
       "<Figure size 1000x600 with 1 Axes>"
      ]
     },
     "metadata": {},
     "output_type": "display_data"
    }
   ],
   "source": [
    "import seaborn as sns\n",
    "import matplotlib.pyplot as plt\n",
    "\n",
    "# Set the style of seaborn\n",
    "sns.set(style=\"whitegrid\")\n",
    "\n",
    "# Create a histogram for the scaled amount variable\n",
    "plt.figure(figsize=(10, 6))\n",
    "sns.histplot(data_balanced['amount_scaled'], bins=50, kde=True, color='green')\n",
    "\n",
    "# Set title and labels\n",
    "plt.title('Distribution of Scaled Amount', fontsize=16)\n",
    "plt.xlabel('Scaled Amount', fontsize=14)\n",
    "plt.ylabel('Frequency', fontsize=14)\n",
    "\n",
    "# Show the plot\n",
    "plt.show()"
   ]
  },
  {
   "cell_type": "code",
   "execution_count": 131,
   "id": "dc8b412b-5153-4392-a8a2-4f505bc5a91a",
   "metadata": {},
   "outputs": [
    {
     "name": "stdout",
     "output_type": "stream",
     "text": [
      "type                          0\n",
      "amount                        0\n",
      "isFlaggedFraud                0\n",
      "Actual_amount_orig            0\n",
      "Actual_amount_dest            0\n",
      "TransactionPath        12708814\n",
      "amount_log                    0\n",
      "amount_standardized           0\n",
      "amount_scaled                 0\n",
      "dtype: int64\n"
     ]
    }
   ],
   "source": [
    "# Convert all columns to numeric (where applicable), replacing invalid values with NaN\n",
    "X = X.apply(pd.to_numeric, errors='coerce')\n",
    "\n",
    "# Check if any NaN values are introduced\n",
    "print(X.isnull().sum())\n",
    "\n",
    "# Drop rows with NaN values (optional) or handle them accordingly\n",
    "X = X.dropna()"
   ]
  },
  {
   "cell_type": "code",
   "execution_count": 135,
   "id": "f4a83f34-c70f-4844-9290-c2fc94039a5f",
   "metadata": {},
   "outputs": [],
   "source": [
    "data_balanced = data_balanced.drop(columns=['TransactionPath'])"
   ]
  },
  {
   "cell_type": "code",
   "execution_count": 137,
   "id": "c8775e6d-789d-4c0d-89e7-915237eaeee9",
   "metadata": {},
   "outputs": [
    {
     "name": "stdout",
     "output_type": "stream",
     "text": [
      "type                   0\n",
      "amount                 0\n",
      "isFlaggedFraud         0\n",
      "Actual_amount_orig     0\n",
      "Actual_amount_dest     0\n",
      "TransactionPath        0\n",
      "amount_log             0\n",
      "amount_standardized    0\n",
      "amount_scaled          0\n",
      "dtype: int64\n"
     ]
    }
   ],
   "source": [
    "# Convert all columns to numeric (where applicable), replacing invalid values with NaN\n",
    "X = X.apply(pd.to_numeric, errors='coerce')\n",
    "\n",
    "# Check if any NaN values are introduced\n",
    "print(X.isnull().sum())\n",
    "\n",
    "# Drop rows with NaN values (optional) or handle them accordingly\n",
    "X = X.dropna()"
   ]
  },
  {
   "cell_type": "raw",
   "id": "1603576a-1c8d-4bf0-b71b-f253be4448b7",
   "metadata": {},
   "source": [
    "Model building"
   ]
  },
  {
   "cell_type": "code",
   "execution_count": 139,
   "id": "6fc3caac-76e4-4477-a341-3c8af18d964c",
   "metadata": {},
   "outputs": [
    {
     "name": "stdout",
     "output_type": "stream",
     "text": [
      "Training Accuracy: 0.9086, Precision: 0.9585, Recall: 0.8543, F1: 0.9034\n",
      "Testing Accuracy: 0.9085, Precision: 0.9586, Recall: 0.8539, F1: 0.9032\n"
     ]
    },
    {
     "data": {
      "image/png": "[encoded data removed]",
      "text/plain": [
       "<Figure size 800x600 with 2 Axes>"
      ]
     },
     "metadata": {},
     "output_type": "display_data"
    },
    {
     "data": {
      "image/png": "[encoded data removed]",
      "text/plain": [
       "<Figure size 800x600 with 1 Axes>"
      ]
     },
     "metadata": {},
     "output_type": "display_data"
    },
    {
     "name": "stdout",
     "output_type": "stream",
     "text": [
      "\n",
      "Model Evaluation Summary:\n",
      "      Metric  Training Set  Testing Set\n",
      "0   Accuracy      0.908636     0.908467\n",
      "1  Precision      0.958492     0.958552\n",
      "2     Recall      0.854267     0.853855\n",
      "3   F1 Score      0.903383     0.903179\n"
     ]
    }
   ],
   "source": [
    "# Import necessary libraries\n",
    "import pandas as pd\n",
    "from sklearn.model_selection import train_test_split\n",
    "from sklearn.linear_model import LogisticRegression\n",
    "from sklearn.metrics import accuracy_score, precision_score, recall_score, f1_score, confusion_matrix, roc_curve, auc, ConfusionMatrixDisplay, RocCurveDisplay\n",
    "import matplotlib.pyplot as plt\n",
    "import seaborn as sns\n",
    "\n",
    "# Assuming data_balanced is your DataFrame\n",
    "# Replace 'data_balanced' with your actual DataFrame name if different\n",
    "\n",
    "# Features and target\n",
    "X = data_balanced.drop(columns=['isFraud'])  # Exclude 'isFraud' column from features\n",
    "y = data_balanced['isFraud']  # 'isFraud' is the target\n",
    "\n",
    "# Split the data into training and testing sets (80% training, 20% testing)\n",
    "X_train, X_test, y_train, y_test = train_test_split(X, y, test_size=0.2, random_state=42, stratify=y)\n",
    "\n",
    "# Initialize Logistic Regression model\n",
    "log_reg = LogisticRegression(max_iter=1000, random_state=42)\n",
    "\n",
    "# Train the model\n",
    "log_reg.fit(X_train, y_train)\n",
    "\n",
    "# Make predictions for training and testing sets\n",
    "y_train_pred = log_reg.predict(X_train)\n",
    "y_test_pred = log_reg.predict(X_test)\n",
    "\n",
    "# ----------------------\n",
    "# Model Evaluation\n",
    "# ----------------------\n",
    "\n",
    "# Calculate accuracy, precision, recall, and F1 score for training and testing sets\n",
    "train_accuracy = accuracy_score(y_train, y_train_pred)\n",
    "test_accuracy = accuracy_score(y_test, y_test_pred)\n",
    "\n",
    "train_precision = precision_score(y_train, y_train_pred)\n",
    "test_precision = precision_score(y_test, y_test_pred)\n",
    "\n",
    "train_recall = recall_score(y_train, y_train_pred)\n",
    "test_recall = recall_score(y_test, y_test_pred)\n",
    "\n",
    "train_f1 = f1_score(y_train, y_train_pred)\n",
    "test_f1 = f1_score(y_test, y_test_pred)\n",
    "\n",
    "# Print the evaluation metrics\n",
    "print(f\"Training Accuracy: {train_accuracy:.4f}, Precision: {train_precision:.4f}, Recall: {train_recall:.4f}, F1: {train_f1:.4f}\")\n",
    "print(f\"Testing Accuracy: {test_accuracy:.4f}, Precision: {test_precision:.4f}, Recall: {test_recall:.4f}, F1: {test_f1:.4f}\")\n",
    "\n",
    "# ----------------------\n",
    "# Confusion Matrix\n",
    "# ----------------------\n",
    "\n",
    "# Confusion matrix for the test set\n",
    "cm = confusion_matrix(y_test, y_test_pred)\n",
    "\n",
    "# Plot the confusion matrix\n",
    "plt.figure(figsize=(8, 6))\n",
    "sns.heatmap(cm, annot=True, fmt='d', cmap='Blues', xticklabels=['No Fraud', 'Fraud'], yticklabels=['No Fraud', 'Fraud'])\n",
    "plt.title('Confusion Matrix')\n",
    "plt.xlabel('Predicted')\n",
    "plt.ylabel('True')\n",
    "plt.show()\n",
    "\n",
    "# ----------------------\n",
    "# ROC Curve and AUC\n",
    "# ----------------------\n",
    "\n",
    "# Get predicted probabilities\n",
    "y_test_probs = log_reg.predict_proba(X_test)[:, 1]\n",
    "\n",
    "# Compute ROC curve and AUC score\n",
    "fpr, tpr, thresholds = roc_curve(y_test, y_test_probs)\n",
    "roc_auc = auc(fpr, tpr)\n",
    "\n",
    "# Plot ROC curve\n",
    "plt.figure(figsize=(8, 6))\n",
    "plt.plot(fpr, tpr, color='darkorange', label=f'ROC Curve (AUC = {roc_auc:.4f})')\n",
    "plt.plot([0, 1], [0, 1], color='navy', linestyle='--')  # Diagonal line\n",
    "plt.xlabel('False Positive Rate')\n",
    "plt.ylabel('True Positive Rate')\n",
    "plt.title('Receiver Operating Characteristic (ROC) Curve')\n",
    "plt.legend(loc=\"lower right\")\n",
    "plt.show()\n",
    "\n",
    "# ----------------------\n",
    "# Summarize Training and Testing Results\n",
    "# ----------------------\n",
    "results = pd.DataFrame({\n",
    "    'Metric': ['Accuracy', 'Precision', 'Recall', 'F1 Score'],\n",
    "    'Training Set': [train_accuracy, train_precision, train_recall, train_f1],\n",
    "    'Testing Set': [test_accuracy, test_precision, test_recall, test_f1]\n",
    "})\n",
    "\n",
    "print(\"\\nModel Evaluation Summary:\")\n",
    "print(results)"
   ]
  },
  {
   "cell_type": "raw",
   "id": "b89d7b91-25cf-4570-bcbe-6ef423850a78",
   "metadata": {},
   "source": [
    "Definitions:\n",
    "\n",
    "True Positive (TP): Correctly predicted as Fraud (1085148)\n",
    "True Negative (TN): Correctly predicted as No Fraud (1223960)\n",
    "False Positive (FP): Incorrectly predicted as Fraud (46922)\n",
    "False Negative (FN): Incorrectly predicted as No Fraud (185733)\n",
    "\n",
    "Key Metrics:\n",
    "\n",
    "Accuracy: (TP + TN) / (TP + TN + FP + FN) = (1223960 + 1085148) / (1223960 + 1085148 + 46922 + 185733) ≈ 0.905. This means the model correctly classified about 90.5% of the instances.\n",
    "\n",
    "Precision: TP / (TP + FP) = 1085148 / (1085148 + 46922) ≈ 0.958. This indicates that when the model predicts Fraud, it's correct about 95.8% of the time.\n",
    "\n",
    "Recall: TP / (TP + FN) = 1085148 / (1085148 + 185733) ≈ 0.853. This means the model correctly identifies 85.3% of actual Fraud cases.\n",
    "\n",
    "F1-score: 2 * (Precision * Recall) / (Precision + Recall) = 2 * (0.958 * 0.853) / (0.958 + 0.853) ≈ 0.903. This provides a balanced measure of precision and recall.\n",
    "\n",
    "Interpretation:\n",
    "\n",
    "The model achieves a relatively high accuracy, indicating overall good performance.\n",
    "Precision is also high, suggesting that when the model predicts Fraud, it's likely correct.\n",
    "Recall is moderate, meaning the model might miss some actual Fraud cases.\n",
    "The F1-score is a good overall measure, balancing precision and recall."
   ]
  },
  {
   "cell_type": "markdown",
   "id": "ad5ba64c-75cb-4d2c-bbf2-b25f33a222a0",
   "metadata": {},
   "source": [
    "--------------------------------------------------------------------------------------------------------------------------------------------------------"
   ]
  },
  {
   "cell_type": "raw",
   "id": "cdafd6a5-8464-4748-8874-ec4ed5c0d367",
   "metadata": {},
   "source": [
    "Model 2"
   ]
  },
  {
   "cell_type": "raw",
   "id": "52a1ca90-e004-4f29-82e5-00ee90d7ff47",
   "metadata": {},
   "source": [
    "Loading model"
   ]
  },
  {
   "cell_type": "code",
   "execution_count": 1,
   "id": "7372b63a-8629-4e86-9f34-4bfffa6207b4",
   "metadata": {},
   "outputs": [
    {
     "name": "stdout",
     "output_type": "stream",
     "text": [
      "   step      type    amount     nameOrig  oldbalanceOrg  newbalanceOrig  \\\n",
      "0     1   PAYMENT   9839.64  C1231006815       170136.0       160296.36   \n",
      "1     1   PAYMENT   1864.28  C1666544295        21249.0        19384.72   \n",
      "2     1  TRANSFER    181.00  C1305486145          181.0            0.00   \n",
      "3     1  CASH_OUT    181.00   C840083671          181.0            0.00   \n",
      "4     1   PAYMENT  11668.14  C2048537720        41554.0        29885.86   \n",
      "\n",
      "      nameDest  oldbalanceDest  newbalanceDest  isFraud  isFlaggedFraud  \n",
      "0  M1979787155             0.0             0.0        0               0  \n",
      "1  M2044282225             0.0             0.0        0               0  \n",
      "2   C553264065             0.0             0.0        1               0  \n",
      "3    C38997010         21182.0             0.0        1               0  \n",
      "4  M1230701703             0.0             0.0        0               0  \n"
     ]
    }
   ],
   "source": [
    "import pandas as pd\n",
    "\n",
    "# Specify the path to your dataset\n",
    "dataset_path = r\"C:\\Users\\roari\\Downloads\\Fraud\\Fraud Datasheet.csv\"\n",
    "\n",
    "# Load the dataset\n",
    "fraud_data = pd.read_csv(dataset_path)\n",
    "\n",
    "# Display the first few rows of the dataset to confirm it loaded correctly\n",
    "print(fraud_data.head())"
   ]
  },
  {
   "cell_type": "code",
   "execution_count": 3,
   "id": "f8e0a503-bd25-4048-8c67-acd830af3318",
   "metadata": {},
   "outputs": [],
   "source": [
    "fraud_data = pd.read_csv(dataset_path, encoding='utf-8', sep=',')"
   ]
  },
  {
   "cell_type": "code",
   "execution_count": 5,
   "id": "a817e767-2c2a-4c45-b3bf-63a034cb538c",
   "metadata": {},
   "outputs": [
    {
     "data": {
      "text/html": [
       "<div>\n",
       "<style scoped>\n",
       "    .dataframe tbody tr th:only-of-type {\n",
       "        vertical-align: middle;\n",
       "    }\n",
       "\n",
       "    .dataframe tbody tr th {\n",
       "        vertical-align: top;\n",
       "    }\n",
       "\n",
       "    .dataframe thead th {\n",
       "        text-align: right;\n",
       "    }\n",
       "</style>\n",
       "<table border=\"1\" class=\"dataframe\">\n",
       "  <thead>\n",
       "    <tr style=\"text-align: right;\">\n",
       "      <th></th>\n",
       "      <th>step</th>\n",
       "      <th>type</th>\n",
       "      <th>amount</th>\n",
       "      <th>nameOrig</th>\n",
       "      <th>oldbalanceOrg</th>\n",
       "      <th>newbalanceOrig</th>\n",
       "      <th>nameDest</th>\n",
       "      <th>oldbalanceDest</th>\n",
       "      <th>newbalanceDest</th>\n",
       "      <th>isFraud</th>\n",
       "      <th>isFlaggedFraud</th>\n",
       "    </tr>\n",
       "  </thead>\n",
       "  <tbody>\n",
       "    <tr>\n",
       "      <th>0</th>\n",
       "      <td>1</td>\n",
       "      <td>PAYMENT</td>\n",
       "      <td>9839.64</td>\n",
       "      <td>C1231006815</td>\n",
       "      <td>170136.0</td>\n",
       "      <td>160296.36</td>\n",
       "      <td>M1979787155</td>\n",
       "      <td>0.0</td>\n",
       "      <td>0.0</td>\n",
       "      <td>0</td>\n",
       "      <td>0</td>\n",
       "    </tr>\n",
       "    <tr>\n",
       "      <th>1</th>\n",
       "      <td>1</td>\n",
       "      <td>PAYMENT</td>\n",
       "      <td>1864.28</td>\n",
       "      <td>C1666544295</td>\n",
       "      <td>21249.0</td>\n",
       "      <td>19384.72</td>\n",
       "      <td>M2044282225</td>\n",
       "      <td>0.0</td>\n",
       "      <td>0.0</td>\n",
       "      <td>0</td>\n",
       "      <td>0</td>\n",
       "    </tr>\n",
       "    <tr>\n",
       "      <th>2</th>\n",
       "      <td>1</td>\n",
       "      <td>TRANSFER</td>\n",
       "      <td>181.00</td>\n",
       "      <td>C1305486145</td>\n",
       "      <td>181.0</td>\n",
       "      <td>0.00</td>\n",
       "      <td>C553264065</td>\n",
       "      <td>0.0</td>\n",
       "      <td>0.0</td>\n",
       "      <td>1</td>\n",
       "      <td>0</td>\n",
       "    </tr>\n",
       "    <tr>\n",
       "      <th>3</th>\n",
       "      <td>1</td>\n",
       "      <td>CASH_OUT</td>\n",
       "      <td>181.00</td>\n",
       "      <td>C840083671</td>\n",
       "      <td>181.0</td>\n",
       "      <td>0.00</td>\n",
       "      <td>C38997010</td>\n",
       "      <td>21182.0</td>\n",
       "      <td>0.0</td>\n",
       "      <td>1</td>\n",
       "      <td>0</td>\n",
       "    </tr>\n",
       "    <tr>\n",
       "      <th>4</th>\n",
       "      <td>1</td>\n",
       "      <td>PAYMENT</td>\n",
       "      <td>11668.14</td>\n",
       "      <td>C2048537720</td>\n",
       "      <td>41554.0</td>\n",
       "      <td>29885.86</td>\n",
       "      <td>M1230701703</td>\n",
       "      <td>0.0</td>\n",
       "      <td>0.0</td>\n",
       "      <td>0</td>\n",
       "      <td>0</td>\n",
       "    </tr>\n",
       "  </tbody>\n",
       "</table>\n",
       "</div>"
      ],
      "text/plain": [
       "   step      type    amount     nameOrig  oldbalanceOrg  newbalanceOrig  \\\n",
       "0     1   PAYMENT   9839.64  C1231006815       170136.0       160296.36   \n",
       "1     1   PAYMENT   1864.28  C1666544295        21249.0        19384.72   \n",
       "2     1  TRANSFER    181.00  C1305486145          181.0            0.00   \n",
       "3     1  CASH_OUT    181.00   C840083671          181.0            0.00   \n",
       "4     1   PAYMENT  11668.14  C2048537720        41554.0        29885.86   \n",
       "\n",
       "      nameDest  oldbalanceDest  newbalanceDest  isFraud  isFlaggedFraud  \n",
       "0  M1979787155             0.0             0.0        0               0  \n",
       "1  M2044282225             0.0             0.0        0               0  \n",
       "2   C553264065             0.0             0.0        1               0  \n",
       "3    C38997010         21182.0             0.0        1               0  \n",
       "4  M1230701703             0.0             0.0        0               0  "
      ]
     },
     "execution_count": 5,
     "metadata": {},
     "output_type": "execute_result"
    }
   ],
   "source": [
    "fraud_data.head(5)"
   ]
  },
  {
   "cell_type": "raw",
   "id": "d2de24f1-dc75-437a-abfb-d630f96296ea",
   "metadata": {},
   "source": [
    "EDA"
   ]
  },
  {
   "cell_type": "code",
   "execution_count": 7,
   "id": "825347c0-b5ff-433c-9e98-2c5eae185c09",
   "metadata": {},
   "outputs": [
    {
     "name": "stdout",
     "output_type": "stream",
     "text": [
      "       type    amount  isFraud  isFlaggedFraud  Actual_amount_orig  \\\n",
      "0   PAYMENT   9839.64        0               0             9839.64   \n",
      "1   PAYMENT   1864.28        0               0             1864.28   \n",
      "2  TRANSFER    181.00        1               0              181.00   \n",
      "3  CASH_OUT    181.00        1               0              181.00   \n",
      "4   PAYMENT  11668.14        0               0            11668.14   \n",
      "\n",
      "   Actual_amount_dest         TransactionPath  \n",
      "0                 0.0  C1231006815M1979787155  \n",
      "1                 0.0  C1666544295M2044282225  \n",
      "2                 0.0   C1305486145C553264065  \n",
      "3             21182.0     C840083671C38997010  \n",
      "4                 0.0  C2048537720M1230701703  \n"
     ]
    }
   ],
   "source": [
    "# Step 1: Drop the 'step' column\n",
    "new_df = fraud_data.drop(columns=['step'])\n",
    "\n",
    "# Step 2: Calculate 'Actual_amount_orig' and 'Actual_amount_dest'\n",
    "new_df['Actual_amount_orig'] = new_df.apply(lambda x: x['oldbalanceOrg'] - x['newbalanceOrig'], axis=1)\n",
    "new_df['Actual_amount_dest'] = new_df.apply(lambda x: x['oldbalanceDest'] - x['newbalanceDest'], axis=1)\n",
    "\n",
    "# Step 3: Create the 'TransactionPath' column\n",
    "new_df['TransactionPath'] = new_df.apply(lambda x: x['nameOrig'] + x['nameDest'], axis=1)\n",
    "\n",
    "# Step 4: Dropping unnecessary columns\n",
    "new_df = new_df.drop(columns=['oldbalanceOrg', 'newbalanceOrig', 'oldbalanceDest', 'newbalanceDest', 'nameOrig', 'nameDest'])\n",
    "\n",
    "# Display the first few rows of the new DataFrame\n",
    "print(new_df.head())"
   ]
  },
  {
   "cell_type": "code",
   "execution_count": 9,
   "id": "7242f4a8-2c5c-4263-a2eb-4b9a4a71af20",
   "metadata": {},
   "outputs": [
    {
     "data": {
      "text/html": [
       "<div>\n",
       "<style scoped>\n",
       "    .dataframe tbody tr th:only-of-type {\n",
       "        vertical-align: middle;\n",
       "    }\n",
       "\n",
       "    .dataframe tbody tr th {\n",
       "        vertical-align: top;\n",
       "    }\n",
       "\n",
       "    .dataframe thead th {\n",
       "        text-align: right;\n",
       "    }\n",
       "</style>\n",
       "<table border=\"1\" class=\"dataframe\">\n",
       "  <thead>\n",
       "    <tr style=\"text-align: right;\">\n",
       "      <th></th>\n",
       "      <th>type</th>\n",
       "      <th>amount</th>\n",
       "      <th>isFraud</th>\n",
       "      <th>isFlaggedFraud</th>\n",
       "      <th>Actual_amount_orig</th>\n",
       "      <th>Actual_amount_dest</th>\n",
       "      <th>TransactionPath</th>\n",
       "    </tr>\n",
       "  </thead>\n",
       "  <tbody>\n",
       "    <tr>\n",
       "      <th>0</th>\n",
       "      <td>PAYMENT</td>\n",
       "      <td>9839.64</td>\n",
       "      <td>0</td>\n",
       "      <td>0</td>\n",
       "      <td>9839.64</td>\n",
       "      <td>0.0</td>\n",
       "      <td>C1231006815M1979787155</td>\n",
       "    </tr>\n",
       "    <tr>\n",
       "      <th>1</th>\n",
       "      <td>PAYMENT</td>\n",
       "      <td>1864.28</td>\n",
       "      <td>0</td>\n",
       "      <td>0</td>\n",
       "      <td>1864.28</td>\n",
       "      <td>0.0</td>\n",
       "      <td>C1666544295M2044282225</td>\n",
       "    </tr>\n",
       "    <tr>\n",
       "      <th>2</th>\n",
       "      <td>TRANSFER</td>\n",
       "      <td>181.00</td>\n",
       "      <td>1</td>\n",
       "      <td>0</td>\n",
       "      <td>181.00</td>\n",
       "      <td>0.0</td>\n",
       "      <td>C1305486145C553264065</td>\n",
       "    </tr>\n",
       "    <tr>\n",
       "      <th>3</th>\n",
       "      <td>CASH_OUT</td>\n",
       "      <td>181.00</td>\n",
       "      <td>1</td>\n",
       "      <td>0</td>\n",
       "      <td>181.00</td>\n",
       "      <td>21182.0</td>\n",
       "      <td>C840083671C38997010</td>\n",
       "    </tr>\n",
       "    <tr>\n",
       "      <th>4</th>\n",
       "      <td>PAYMENT</td>\n",
       "      <td>11668.14</td>\n",
       "      <td>0</td>\n",
       "      <td>0</td>\n",
       "      <td>11668.14</td>\n",
       "      <td>0.0</td>\n",
       "      <td>C2048537720M1230701703</td>\n",
       "    </tr>\n",
       "  </tbody>\n",
       "</table>\n",
       "</div>"
      ],
      "text/plain": [
       "       type    amount  isFraud  isFlaggedFraud  Actual_amount_orig  \\\n",
       "0   PAYMENT   9839.64        0               0             9839.64   \n",
       "1   PAYMENT   1864.28        0               0             1864.28   \n",
       "2  TRANSFER    181.00        1               0              181.00   \n",
       "3  CASH_OUT    181.00        1               0              181.00   \n",
       "4   PAYMENT  11668.14        0               0            11668.14   \n",
       "\n",
       "   Actual_amount_dest         TransactionPath  \n",
       "0                 0.0  C1231006815M1979787155  \n",
       "1                 0.0  C1666544295M2044282225  \n",
       "2                 0.0   C1305486145C553264065  \n",
       "3             21182.0     C840083671C38997010  \n",
       "4                 0.0  C2048537720M1230701703  "
      ]
     },
     "execution_count": 9,
     "metadata": {},
     "output_type": "execute_result"
    }
   ],
   "source": [
    "new_df.head(5)"
   ]
  },
  {
   "cell_type": "code",
   "execution_count": 11,
   "id": "bce2e2c1-e637-4454-8747-d2a61f4a6ef3",
   "metadata": {},
   "outputs": [
    {
     "name": "stdout",
     "output_type": "stream",
     "text": [
      "type                  0\n",
      "amount                0\n",
      "isFraud               0\n",
      "isFlaggedFraud        0\n",
      "Actual_amount_orig    0\n",
      "Actual_amount_dest    0\n",
      "TransactionPath       0\n",
      "dtype: int64\n"
     ]
    }
   ],
   "source": [
    "# Count null values in each column\n",
    "null_counts = new_df.isnull().sum()\n",
    "\n",
    "# Display the count of null values\n",
    "print(null_counts)"
   ]
  },
  {
   "cell_type": "code",
   "execution_count": 13,
   "id": "eae9a507-f49c-4cc3-88c9-4452d70a43fe",
   "metadata": {},
   "outputs": [],
   "source": [
    "# Dropping the 'TransactionPath' column\n",
    "new_df = new_df.drop(columns=['TransactionPath'])"
   ]
  },
  {
   "cell_type": "code",
   "execution_count": 15,
   "id": "89c425a1-865a-4198-a5dc-0c49c3460349",
   "metadata": {},
   "outputs": [
    {
     "data": {
      "text/html": [
       "<div>\n",
       "<style scoped>\n",
       "    .dataframe tbody tr th:only-of-type {\n",
       "        vertical-align: middle;\n",
       "    }\n",
       "\n",
       "    .dataframe tbody tr th {\n",
       "        vertical-align: top;\n",
       "    }\n",
       "\n",
       "    .dataframe thead th {\n",
       "        text-align: right;\n",
       "    }\n",
       "</style>\n",
       "<table border=\"1\" class=\"dataframe\">\n",
       "  <thead>\n",
       "    <tr style=\"text-align: right;\">\n",
       "      <th></th>\n",
       "      <th>type</th>\n",
       "      <th>amount</th>\n",
       "      <th>isFraud</th>\n",
       "      <th>isFlaggedFraud</th>\n",
       "      <th>Actual_amount_orig</th>\n",
       "      <th>Actual_amount_dest</th>\n",
       "    </tr>\n",
       "  </thead>\n",
       "  <tbody>\n",
       "    <tr>\n",
       "      <th>0</th>\n",
       "      <td>PAYMENT</td>\n",
       "      <td>9839.64</td>\n",
       "      <td>0</td>\n",
       "      <td>0</td>\n",
       "      <td>9839.64</td>\n",
       "      <td>0.0</td>\n",
       "    </tr>\n",
       "    <tr>\n",
       "      <th>1</th>\n",
       "      <td>PAYMENT</td>\n",
       "      <td>1864.28</td>\n",
       "      <td>0</td>\n",
       "      <td>0</td>\n",
       "      <td>1864.28</td>\n",
       "      <td>0.0</td>\n",
       "    </tr>\n",
       "    <tr>\n",
       "      <th>2</th>\n",
       "      <td>TRANSFER</td>\n",
       "      <td>181.00</td>\n",
       "      <td>1</td>\n",
       "      <td>0</td>\n",
       "      <td>181.00</td>\n",
       "      <td>0.0</td>\n",
       "    </tr>\n",
       "    <tr>\n",
       "      <th>3</th>\n",
       "      <td>CASH_OUT</td>\n",
       "      <td>181.00</td>\n",
       "      <td>1</td>\n",
       "      <td>0</td>\n",
       "      <td>181.00</td>\n",
       "      <td>21182.0</td>\n",
       "    </tr>\n",
       "    <tr>\n",
       "      <th>4</th>\n",
       "      <td>PAYMENT</td>\n",
       "      <td>11668.14</td>\n",
       "      <td>0</td>\n",
       "      <td>0</td>\n",
       "      <td>11668.14</td>\n",
       "      <td>0.0</td>\n",
       "    </tr>\n",
       "  </tbody>\n",
       "</table>\n",
       "</div>"
      ],
      "text/plain": [
       "       type    amount  isFraud  isFlaggedFraud  Actual_amount_orig  \\\n",
       "0   PAYMENT   9839.64        0               0             9839.64   \n",
       "1   PAYMENT   1864.28        0               0             1864.28   \n",
       "2  TRANSFER    181.00        1               0              181.00   \n",
       "3  CASH_OUT    181.00        1               0              181.00   \n",
       "4   PAYMENT  11668.14        0               0            11668.14   \n",
       "\n",
       "   Actual_amount_dest  \n",
       "0                 0.0  \n",
       "1                 0.0  \n",
       "2                 0.0  \n",
       "3             21182.0  \n",
       "4                 0.0  "
      ]
     },
     "execution_count": 15,
     "metadata": {},
     "output_type": "execute_result"
    }
   ],
   "source": [
    "new_df.head(5)"
   ]
  },
  {
   "cell_type": "code",
   "execution_count": 17,
   "id": "8272d178-f05f-473a-8ce7-fc035a4cc4e8",
   "metadata": {},
   "outputs": [
    {
     "data": {
      "text/html": [
       "<div>\n",
       "<style scoped>\n",
       "    .dataframe tbody tr th:only-of-type {\n",
       "        vertical-align: middle;\n",
       "    }\n",
       "\n",
       "    .dataframe tbody tr th {\n",
       "        vertical-align: top;\n",
       "    }\n",
       "\n",
       "    .dataframe thead th {\n",
       "        text-align: right;\n",
       "    }\n",
       "</style>\n",
       "<table border=\"1\" class=\"dataframe\">\n",
       "  <thead>\n",
       "    <tr style=\"text-align: right;\">\n",
       "      <th></th>\n",
       "      <th>type</th>\n",
       "      <th>amount</th>\n",
       "      <th>isFraud</th>\n",
       "      <th>isFlaggedFraud</th>\n",
       "      <th>Actual_amount_orig</th>\n",
       "      <th>Actual_amount_dest</th>\n",
       "    </tr>\n",
       "  </thead>\n",
       "  <tbody>\n",
       "    <tr>\n",
       "      <th>6362615</th>\n",
       "      <td>CASH_OUT</td>\n",
       "      <td>339682.13</td>\n",
       "      <td>1</td>\n",
       "      <td>0</td>\n",
       "      <td>339682.13</td>\n",
       "      <td>-339682.13</td>\n",
       "    </tr>\n",
       "    <tr>\n",
       "      <th>6362616</th>\n",
       "      <td>TRANSFER</td>\n",
       "      <td>6311409.28</td>\n",
       "      <td>1</td>\n",
       "      <td>0</td>\n",
       "      <td>6311409.28</td>\n",
       "      <td>0.00</td>\n",
       "    </tr>\n",
       "    <tr>\n",
       "      <th>6362617</th>\n",
       "      <td>CASH_OUT</td>\n",
       "      <td>6311409.28</td>\n",
       "      <td>1</td>\n",
       "      <td>0</td>\n",
       "      <td>6311409.28</td>\n",
       "      <td>-6311409.27</td>\n",
       "    </tr>\n",
       "    <tr>\n",
       "      <th>6362618</th>\n",
       "      <td>TRANSFER</td>\n",
       "      <td>850002.52</td>\n",
       "      <td>1</td>\n",
       "      <td>0</td>\n",
       "      <td>850002.52</td>\n",
       "      <td>0.00</td>\n",
       "    </tr>\n",
       "    <tr>\n",
       "      <th>6362619</th>\n",
       "      <td>CASH_OUT</td>\n",
       "      <td>850002.52</td>\n",
       "      <td>1</td>\n",
       "      <td>0</td>\n",
       "      <td>850002.52</td>\n",
       "      <td>-850002.52</td>\n",
       "    </tr>\n",
       "  </tbody>\n",
       "</table>\n",
       "</div>"
      ],
      "text/plain": [
       "             type      amount  isFraud  isFlaggedFraud  Actual_amount_orig  \\\n",
       "6362615  CASH_OUT   339682.13        1               0           339682.13   \n",
       "6362616  TRANSFER  6311409.28        1               0          6311409.28   \n",
       "6362617  CASH_OUT  6311409.28        1               0          6311409.28   \n",
       "6362618  TRANSFER   850002.52        1               0           850002.52   \n",
       "6362619  CASH_OUT   850002.52        1               0           850002.52   \n",
       "\n",
       "         Actual_amount_dest  \n",
       "6362615          -339682.13  \n",
       "6362616                0.00  \n",
       "6362617         -6311409.27  \n",
       "6362618                0.00  \n",
       "6362619          -850002.52  "
      ]
     },
     "execution_count": 17,
     "metadata": {},
     "output_type": "execute_result"
    }
   ],
   "source": [
    "new_df.tail(5)"
   ]
  },
  {
   "cell_type": "raw",
   "id": "7d4b707c-3d5d-4237-90c8-df0b6dee95cc",
   "metadata": {},
   "source": [
    "Finding distribution of Fraud"
   ]
  },
  {
   "cell_type": "code",
   "execution_count": 19,
   "id": "6eed3230-9485-4381-ba38-0c29d0cece74",
   "metadata": {},
   "outputs": [
    {
     "name": "stderr",
     "output_type": "stream",
     "text": [
      "C:\\Users\\roari\\AppData\\Local\\Temp\\ipykernel_5932\\2885500572.py:9: FutureWarning: \n",
      "\n",
      "Passing `palette` without assigning `hue` is deprecated and will be removed in v0.14.0. Assign the `x` variable to `hue` and set `legend=False` for the same effect.\n",
      "\n",
      "  sns.countplot(data=new_df, x='isFraud', palette='Set2')\n"
     ]
    },
    {
     "data": {
      "image/png": "[encoded data removed]",
      "text/plain": [
       "<Figure size 800x600 with 1 Axes>"
      ]
     },
     "metadata": {},
     "output_type": "display_data"
    }
   ],
   "source": [
    "import seaborn as sns\n",
    "import matplotlib.pyplot as plt\n",
    "\n",
    "# Set the style of the visualizations\n",
    "sns.set(style=\"whitegrid\")\n",
    "\n",
    "# Create a histogram for the distribution of fraud (0 vs 1)\n",
    "plt.figure(figsize=(8, 6))\n",
    "sns.countplot(data=new_df, x='isFraud', palette='Set2')\n",
    "\n",
    "# Add titles and labels\n",
    "plt.title('Distribution of Fraudulent Transactions')\n",
    "plt.xlabel('Fraud (0 = No, 1 = Yes)')\n",
    "plt.ylabel('Number of Transactions')\n",
    "plt.xticks(ticks=[0, 1], labels=['No Fraud', 'Fraud'])\n",
    "\n",
    "# Show the plot\n",
    "plt.show()"
   ]
  },
  {
   "cell_type": "code",
   "execution_count": 21,
   "id": "c03c16f3-76c5-4544-8cc5-cab695dcb382",
   "metadata": {},
   "outputs": [
    {
     "name": "stdout",
     "output_type": "stream",
     "text": [
      "isFraud\n",
      "0    6354407\n",
      "1       8213\n",
      "Name: count, dtype: int64\n"
     ]
    }
   ],
   "source": [
    "# Counting the number of fraud and non-fraud transactions\n",
    "fraud_count = new_df['isFraud'].value_counts()\n",
    "print(fraud_count)"
   ]
  },
  {
   "cell_type": "raw",
   "id": "43feaa0e-345c-46aa-9c50-59df1bc8bd1a",
   "metadata": {},
   "source": [
    "Label encoding"
   ]
  },
  {
   "cell_type": "code",
   "execution_count": 23,
   "id": "f3e29929-56e4-4f75-816b-f30488fb58cf",
   "metadata": {},
   "outputs": [
    {
     "name": "stdout",
     "output_type": "stream",
     "text": [
      "   type    amount  isFraud  isFlaggedFraud  Actual_amount_orig  \\\n",
      "0     3   9839.64        0               0             9839.64   \n",
      "1     3   1864.28        0               0             1864.28   \n",
      "2     4    181.00        1               0              181.00   \n",
      "3     1    181.00        1               0              181.00   \n",
      "4     3  11668.14        0               0            11668.14   \n",
      "\n",
      "   Actual_amount_dest  \n",
      "0                 0.0  \n",
      "1                 0.0  \n",
      "2                 0.0  \n",
      "3             21182.0  \n",
      "4                 0.0  \n"
     ]
    }
   ],
   "source": [
    "from sklearn.preprocessing import LabelEncoder\n",
    "\n",
    "# Create a LabelEncoder instance\n",
    "label_encoder = LabelEncoder()\n",
    "\n",
    "# Apply label encoding to the 'type' column\n",
    "new_df['type'] = label_encoder.fit_transform(new_df['type'])\n",
    "\n",
    "# Display the updated DataFrame\n",
    "print(new_df.head())"
   ]
  },
  {
   "cell_type": "code",
   "execution_count": 25,
   "id": "25d13302-de9b-4840-b4e4-2b72cd975a99",
   "metadata": {},
   "outputs": [
    {
     "data": {
      "text/html": [
       "<div>\n",
       "<style scoped>\n",
       "    .dataframe tbody tr th:only-of-type {\n",
       "        vertical-align: middle;\n",
       "    }\n",
       "\n",
       "    .dataframe tbody tr th {\n",
       "        vertical-align: top;\n",
       "    }\n",
       "\n",
       "    .dataframe thead th {\n",
       "        text-align: right;\n",
       "    }\n",
       "</style>\n",
       "<table border=\"1\" class=\"dataframe\">\n",
       "  <thead>\n",
       "    <tr style=\"text-align: right;\">\n",
       "      <th></th>\n",
       "      <th>type</th>\n",
       "      <th>amount</th>\n",
       "      <th>isFraud</th>\n",
       "      <th>isFlaggedFraud</th>\n",
       "      <th>Actual_amount_orig</th>\n",
       "      <th>Actual_amount_dest</th>\n",
       "    </tr>\n",
       "  </thead>\n",
       "  <tbody>\n",
       "    <tr>\n",
       "      <th>0</th>\n",
       "      <td>3</td>\n",
       "      <td>9839.64</td>\n",
       "      <td>0</td>\n",
       "      <td>0</td>\n",
       "      <td>9839.64</td>\n",
       "      <td>0.0</td>\n",
       "    </tr>\n",
       "    <tr>\n",
       "      <th>1</th>\n",
       "      <td>3</td>\n",
       "      <td>1864.28</td>\n",
       "      <td>0</td>\n",
       "      <td>0</td>\n",
       "      <td>1864.28</td>\n",
       "      <td>0.0</td>\n",
       "    </tr>\n",
       "    <tr>\n",
       "      <th>2</th>\n",
       "      <td>4</td>\n",
       "      <td>181.00</td>\n",
       "      <td>1</td>\n",
       "      <td>0</td>\n",
       "      <td>181.00</td>\n",
       "      <td>0.0</td>\n",
       "    </tr>\n",
       "    <tr>\n",
       "      <th>3</th>\n",
       "      <td>1</td>\n",
       "      <td>181.00</td>\n",
       "      <td>1</td>\n",
       "      <td>0</td>\n",
       "      <td>181.00</td>\n",
       "      <td>21182.0</td>\n",
       "    </tr>\n",
       "    <tr>\n",
       "      <th>4</th>\n",
       "      <td>3</td>\n",
       "      <td>11668.14</td>\n",
       "      <td>0</td>\n",
       "      <td>0</td>\n",
       "      <td>11668.14</td>\n",
       "      <td>0.0</td>\n",
       "    </tr>\n",
       "  </tbody>\n",
       "</table>\n",
       "</div>"
      ],
      "text/plain": [
       "   type    amount  isFraud  isFlaggedFraud  Actual_amount_orig  \\\n",
       "0     3   9839.64        0               0             9839.64   \n",
       "1     3   1864.28        0               0             1864.28   \n",
       "2     4    181.00        1               0              181.00   \n",
       "3     1    181.00        1               0              181.00   \n",
       "4     3  11668.14        0               0            11668.14   \n",
       "\n",
       "   Actual_amount_dest  \n",
       "0                 0.0  \n",
       "1                 0.0  \n",
       "2                 0.0  \n",
       "3             21182.0  \n",
       "4                 0.0  "
      ]
     },
     "execution_count": 25,
     "metadata": {},
     "output_type": "execute_result"
    }
   ],
   "source": [
    "new_df.head(5)"
   ]
  },
  {
   "cell_type": "raw",
   "id": "fd1f3f4f-7b2b-4c0e-a665-263adf35eee9",
   "metadata": {},
   "source": [
    "scaling data"
   ]
  },
  {
   "cell_type": "code",
   "execution_count": 31,
   "id": "a7075e3e-2ec6-4473-b32a-3627f53b4ae8",
   "metadata": {},
   "outputs": [
    {
     "name": "stdout",
     "output_type": "stream",
     "text": [
      "   type    amount  isFraud  isFlaggedFraud  Actual_amount_orig  \\\n",
      "0     3 -0.281560        0               0             9839.64   \n",
      "1     3 -0.294767        0               0             1864.28   \n",
      "2     4 -0.297555        1               0              181.00   \n",
      "3     1 -0.297555        1               0              181.00   \n",
      "4     3 -0.278532        0               0            11668.14   \n",
      "\n",
      "   Actual_amount_dest  \n",
      "0                 0.0  \n",
      "1                 0.0  \n",
      "2                 0.0  \n",
      "3             21182.0  \n",
      "4                 0.0  \n"
     ]
    }
   ],
   "source": [
    "from sklearn.preprocessing import StandardScaler\n",
    "\n",
    "# Create a StandardScaler instance\n",
    "scaler = StandardScaler()\n",
    "\n",
    "# Fit and transform the 'amount' column\n",
    "new_df['amount'] = scaler.fit_transform(new_df[['amount']])\n",
    "\n",
    "# Display the updated DataFrame\n",
    "print(new_df.head())"
   ]
  },
  {
   "cell_type": "raw",
   "id": "c04c7e83-33b4-4b1d-9e7b-b4b903689b66",
   "metadata": {},
   "source": [
    "Building the model"
   ]
  },
  {
   "cell_type": "markdown",
   "id": "826765c5-0670-4a9d-b7ae-f764f784a3c3",
   "metadata": {},
   "source": [
    "Taking balanced observation for fraud"
   ]
  },
  {
   "cell_type": "code",
   "execution_count": 39,
   "id": "e3aa77c5-f8a9-497b-a0ab-352ddf07dcf6",
   "metadata": {},
   "outputs": [
    {
     "name": "stderr",
     "output_type": "stream",
     "text": [
      "C:\\Users\\roari\\anaconda3\\Lib\\site-packages\\sklearn\\linear_model\\_logistic.py:469: ConvergenceWarning: lbfgs failed to converge (status=1):\n",
      "STOP: TOTAL NO. of ITERATIONS REACHED LIMIT.\n",
      "\n",
      "Increase the number of iterations (max_iter) or scale the data as shown in:\n",
      "    https://scikit-learn.org/stable/modules/preprocessing.html\n",
      "Please also refer to the documentation for alternative solver options:\n",
      "    https://scikit-learn.org/stable/modules/linear_model.html#logistic-regression\n",
      "  n_iter_i = _check_optimize_result(\n"
     ]
    },
    {
     "name": "stdout",
     "output_type": "stream",
     "text": [
      "Training Accuracy: 0.9067\n",
      "Testing Accuracy: 0.9081\n",
      "Classification Report (Training Data):\n",
      "              precision    recall  f1-score   support\n",
      "\n",
      "           0       0.87      0.96      0.91      6404\n",
      "           1       0.95      0.86      0.90      6396\n",
      "\n",
      "    accuracy                           0.91     12800\n",
      "   macro avg       0.91      0.91      0.91     12800\n",
      "weighted avg       0.91      0.91      0.91     12800\n",
      "\n",
      "Classification Report (Testing Data):\n",
      "              precision    recall  f1-score   support\n",
      "\n",
      "           0       0.87      0.97      0.91      1596\n",
      "           1       0.96      0.85      0.90      1604\n",
      "\n",
      "    accuracy                           0.91      3200\n",
      "   macro avg       0.91      0.91      0.91      3200\n",
      "weighted avg       0.91      0.91      0.91      3200\n",
      "\n"
     ]
    },
    {
     "data": {
      "image/png": "[encoded data removed]",
      "text/plain": [
       "<Figure size 1200x500 with 4 Axes>"
      ]
     },
     "metadata": {},
     "output_type": "display_data"
    },
    {
     "data": {
      "image/png": "[encoded data removed]",
      "text/plain": [
       "<Figure size 800x600 with 1 Axes>"
      ]
     },
     "metadata": {},
     "output_type": "display_data"
    }
   ],
   "source": [
    "import pandas as pd\n",
    "from sklearn.model_selection import train_test_split\n",
    "from sklearn.linear_model import LogisticRegression\n",
    "from sklearn.metrics import classification_report, confusion_matrix, roc_curve, roc_auc_score\n",
    "import matplotlib.pyplot as plt\n",
    "import seaborn as sns\n",
    "\n",
    "# Step 1: Filter the Data\n",
    "fraud_data = new_df[new_df['isFraud'] == 1].sample(n=8000, random_state=42)\n",
    "non_fraud_data = new_df[new_df['isFraud'] == 0].sample(n=8000, random_state=42)\n",
    "\n",
    "# Combine the two datasets\n",
    "balanced_data = pd.concat([fraud_data, non_fraud_data])\n",
    "\n",
    "# Step 2: Split the Data\n",
    "X = balanced_data[['type', 'amount', 'isFlaggedFraud', 'Actual_amount_orig', 'Actual_amount_dest']]\n",
    "y = balanced_data['isFraud']\n",
    "\n",
    "X_train, X_test, y_train, y_test = train_test_split(X, y, test_size=0.2, random_state=42)\n",
    "\n",
    "# Step 3: Train the Logistic Regression Model\n",
    "log_reg = LogisticRegression()\n",
    "log_reg.fit(X_train, y_train)\n",
    "\n",
    "# Step 4: Evaluate the Model\n",
    "# Training accuracy\n",
    "train_accuracy = log_reg.score(X_train, y_train)\n",
    "print(f'Training Accuracy: {train_accuracy:.4f}')\n",
    "\n",
    "# Testing accuracy\n",
    "test_accuracy = log_reg.score(X_test, y_test)\n",
    "print(f'Testing Accuracy: {test_accuracy:.4f}')\n",
    "\n",
    "# Classification report\n",
    "y_train_pred = log_reg.predict(X_train)\n",
    "y_test_pred = log_reg.predict(X_test)\n",
    "\n",
    "print(\"Classification Report (Training Data):\")\n",
    "print(classification_report(y_train, y_train_pred))\n",
    "\n",
    "print(\"Classification Report (Testing Data):\")\n",
    "print(classification_report(y_test, y_test_pred))\n",
    "\n",
    "# Confusion matrix\n",
    "conf_matrix_train = confusion_matrix(y_train, y_train_pred)\n",
    "conf_matrix_test = confusion_matrix(y_test, y_test_pred)\n",
    "\n",
    "plt.figure(figsize=(12, 5))\n",
    "\n",
    "plt.subplot(1, 2, 1)\n",
    "sns.heatmap(conf_matrix_train, annot=True, fmt='d', cmap='Blues')\n",
    "plt.title('Confusion Matrix (Training Data)')\n",
    "plt.xlabel('Predicted')\n",
    "plt.ylabel('Actual')\n",
    "\n",
    "plt.subplot(1, 2, 2)\n",
    "sns.heatmap(conf_matrix_test, annot=True, fmt='d', cmap='Blues')\n",
    "plt.title('Confusion Matrix (Testing Data)')\n",
    "plt.xlabel('Predicted')\n",
    "plt.ylabel('Actual')\n",
    "\n",
    "plt.show()\n",
    "\n",
    "# ROC curve\n",
    "y_test_prob = log_reg.predict_proba(X_test)[:, 1]\n",
    "fpr, tpr, thresholds = roc_curve(y_test, y_test_prob)\n",
    "roc_auc = roc_auc_score(y_test, y_test_prob)\n",
    "\n",
    "plt.figure(figsize=(8, 6))\n",
    "plt.plot(fpr, tpr, color='blue', label=f'ROC Curve (area = {roc_auc:.2f})')\n",
    "plt.plot([0, 1], [0, 1], color='red', linestyle='--')\n",
    "plt.xlabel('False Positive Rate')\n",
    "plt.ylabel('True Positive Rate')\n",
    "plt.title('Receiver Operating Characteristic (ROC) Curve')\n",
    "plt.legend(loc='lower right')\n",
    "plt.show()\n"
   ]
  },
  {
   "cell_type": "raw",
   "id": "01f1fa94-38ab-46e4-882c-e2627b3a36ac",
   "metadata": {},
   "source": [
    "Model Interpretation\n",
    "The logistic regression model was developed to predict fraudulent transactions using a dataset that balances both fraudulent (isFraud = 1) and non-fraudulent (isFraud = 0) cases. The performance of the model is assessed using various metrics, including accuracy, precision, recall, and F1-score, which collectively provide insights into its effectiveness.\n",
    "\n",
    "Accuracy\n",
    "Training Accuracy: 90.67%: This indicates that approximately 90.67% of the training data points were correctly classified by the model.\n",
    "Testing Accuracy: 90.81%: Similarly, the model achieved a testing accuracy of 90.81%, suggesting that it generalizes well to unseen data without significant overfitting.\n",
    "\n",
    "Classification Report Analysis\n",
    "The classification report offers a deeper insight into the model's performance across both classes:\n",
    "\n",
    "Precision:\n",
    "\n",
    "Non-Fraud (0): The precision is 87%, meaning that 87% of transactions predicted as non-fraud are actually non-fraudulent. This indicates a relatively low rate of false positives for this class.\n",
    "Fraud (1): The precision is 95%, suggesting that when the model predicts a transaction as fraudulent, it is correct 95% of the time. This high precision indicates a strong capability to identify fraud accurately.\n",
    "\n",
    "Recall:\n",
    "\n",
    "Non-Fraud (0): The recall is 96%, indicating that the model successfully identifies 96% of actual non-fraud cases. This high value demonstrates the model's effectiveness in detecting legitimate transactions.\n",
    "Fraud (1): The recall is 86%, meaning that the model captures 86% of actual fraudulent transactions. Although this is a solid recall, there is room for improvement, particularly in ensuring that more fraudulent cases are identified.\n",
    "\n",
    "F1-Score:\n",
    "\n",
    "The F1-scores for both classes are around 90%, indicating a good balance between precision and recall. The high F1-scores suggest that the model performs consistently well across both types of transactions, making it a reliable choice for detecting fraud.\n",
    "\n",
    "Support:\n",
    "\n",
    "The training dataset consisted of 6404 non-fraud and 6396 fraud instances, while the testing dataset included 1596 non-fraud and 1604 fraud instances. This balanced support across classes ensures that the evaluation metrics provide an accurate representation of model performance.\n",
    "\n",
    "Overall Interpretation\n",
    "The logistic regression model demonstrates robust performance, achieving high accuracy, precision, and recall across both fraudulent and non-fraudulent transactions. The model's high precision for fraudulent transactions indicates that it is effective in minimizing false positives, while the high recall for non-fraudulent transactions reflects its ability to correctly identify legitimate transactions.\n",
    "\n",
    "However, the recall for fraudulent transactions at 86% suggests that some fraudulent cases may go undetected. "
   ]
  },
  {
   "cell_type": "code",
   "execution_count": null,
   "id": "49ee2214-1a58-4dbb-aa2d-e7033fb6985a",
   "metadata": {},
   "outputs": [],
   "source": []
  }
 ],
 "metadata": {
  "kernelspec": {
   "display_name": "Python 3 (ipykernel)",
   "language": "python",
   "name": "python3"
  },
  "language_info": {
   "codemirror_mode": {
    "name": "ipython",
    "version": 3
   },
   "file_extension": ".py",
   "mimetype": "text/x-python",
   "name": "python",
   "nbconvert_exporter": "python",
   "pygments_lexer": "ipython3",
   "version": "3.11.7"
  }
 },
 "nbformat": 4,
 "nbformat_minor": 5
}
